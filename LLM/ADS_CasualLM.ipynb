{
 "cells": [
  {
   "cell_type": "markdown",
   "metadata": {},
   "source": [
    "## Import Libraries"
   ]
  },
  {
   "cell_type": "code",
   "execution_count": 33,
   "metadata": {},
   "outputs": [],
   "source": [
    "import torch\n",
    "import pandas as pd\n",
    "import os\n",
    "from pathlib import Path\n",
    "from transformers import (\n",
    "    AutoTokenizer, \n",
    "    AutoModelForCausalLM, \n",
    "    pipeline, \n",
    "    BitsAndBytesConfig\n",
    ")\n",
    "import logging\n",
    "import TextAnalysis as TA"
   ]
  },
  {
   "cell_type": "markdown",
   "metadata": {},
   "source": [
    "# Model Configuration"
   ]
  },
  {
   "cell_type": "code",
   "execution_count": 34,
   "metadata": {},
   "outputs": [],
   "source": [
    "def setup_model(model_path=\"/nobackup/ielhaime/models/\"):\n",
    "    \"\"\"Initialize tokenizer and model with 4-bit quantization.\"\"\"\n",
    "    bnb_config = BitsAndBytesConfig(\n",
    "        load_in_4bit=True,\n",
    "        bnb_4bit_use_double_quant=True,\n",
    "        bnb_4bit_quant_type=\"nf4\",\n",
    "        bnb_4bit_compute_dtype=torch.bfloat16\n",
    "    )\n",
    "    \n",
    "    tokenizer = AutoTokenizer.from_pretrained(model_path)\n",
    "    tokenizer.pad_token = tokenizer.eos_token\n",
    "    \n",
    "    model = AutoModelForCausalLM.from_pretrained(\n",
    "        model_path,\n",
    "        quantization_config=bnb_config,\n",
    "        device_map=\"auto\"\n",
    "    )\n",
    "    \n",
    "    return pipeline(\n",
    "        \"text_generation\",\n",
    "        tokenizer=tokenizer,\n",
    "        model=model,\n",
    "        max_new_tokens=512\n",
    "    )"
   ]
  },
  {
   "cell_type": "markdown",
   "metadata": {},
   "source": [
    "#  Text Processing Functions"
   ]
  },
  {
   "cell_type": "code",
   "execution_count": null,
   "metadata": {},
   "outputs": [],
   "source": [
    "def process_summaries(df, stopwords):\n",
    "    \"\"\"Calculate n-grams for summaries.\"\"\"\n",
    "    for _, row in df.iterrows():\n",
    "        summary = row.get('Summary', '')\n",
    "        if pd.isna(summary) or summary == '':\n",
    "            empty_result = [('', 0)] * 10\n",
    "            results = {\n",
    "                'Top_Words': empty_result,\n",
    "                'Top_Bigrams': empty_result,\n",
    "                'Top_Trigrams': empty_result\n",
    "            }\n",
    "        else:\n",
    "            results = {\n",
    "                'Top_Words': TA.topwords(summary, stopwords),\n",
    "                'Top_Bigrams': TA.topbigrams(summary, stopwords),\n",
    "                'Top_Trigrams': TA.toptrigrams(summary, stopwords)\n",
    "            }\n",
    "        \n",
    "        for key, value in results.items():\n",
    "            df.at[_, key] = value\n",
    "    \n",
    "    return df\n"
   ]
  },
  {
   "cell_type": "markdown",
   "metadata": {},
   "source": [
    "# File Processing Functions"
   ]
  },
  {
   "cell_type": "code",
   "execution_count": 42,
   "metadata": {},
   "outputs": [],
   "source": [
    "def read_text_file(file_path):\n",
    "    \"\"\"Read text file with fallback encoding.\"\"\"\n",
    "    try:\n",
    "        with open(file_path, 'r', encoding='utf-8') as file:\n",
    "            return file.read()\n",
    "    except UnicodeDecodeError:\n",
    "        with open(file_path, 'r', encoding='latin-1') as file:\n",
    "            return file.read()\n",
    "    except Exception as e:\n",
    "        logging.error(f\"Error reading {file_path}: {e}\")\n",
    "        return None\n",
    "\n",
    "def process_directory(text_generator, directory_path='content'):\n",
    "    \"\"\"Process text files and generate summaries.\"\"\"\n",
    "    Path(directory_path).mkdir(exist_ok=True)\n",
    "    txt_files = [f for f in os.listdir(directory_path) if f.endswith('.txt')]\n",
    "    \n",
    "    if not txt_files:\n",
    "        logging.warning(f\"No text files found in {directory_path}\")\n",
    "        return None\n",
    "    \n",
    "    summaries = []\n",
    "    for file_name in txt_files:\n",
    "        content = read_text_file(os.path.join(directory_path, file_name))\n",
    "        if content:\n",
    "            try:\n",
    "                summary = text_generator(content)[0]['generated_text']\n",
    "                summaries.append({\n",
    "                    'file_name': file_name,\n",
    "                    'Summary': summary\n",
    "                })\n",
    "            except Exception as e:\n",
    "                logging.error(f\"Error processing {file_name}: {e}\")\n",
    "    \n",
    "    return pd.DataFrame(summaries) if summaries else None\n"
   ]
  },
  {
   "cell_type": "markdown",
   "metadata": {},
   "source": [
    "# Main Execution"
   ]
  },
  {
   "cell_type": "code",
   "execution_count": null,
   "metadata": {},
   "outputs": [],
   "source": [
    "if __name__ == \"__main__\":\n",
    "    # Initialize logging\n",
    "    logging.basicConfig(level=logging.INFO)\n",
    "    \n",
    "    # Setup model and process files\n",
    "    text_generator = setup_model()\n",
    "    df = process_directory(text_generator)\n",
    "    \n",
    "    if df is not None:\n",
    "        # Process and save results\n",
    "        stopwords_path = \"stopwords.txt\"\n",
    "        df = process_summaries(df, stopwords_path)\n",
    "        df.to_csv('./LLM/summaries/meta_summaries.csv', index=False)\n",
    "        \n",
    "        # Display summary\n",
    "        logging.info(f\"Processed {len(df)} files\")\n",
    "        logging.info(\"\\nFirst few entries:\")\n",
    "        print(df.head())"
   ]
  },
  {
   "cell_type": "markdown",
   "metadata": {},
   "source": [
    "# DEPRACTED BELOW"
   ]
  },
  {
   "cell_type": "markdown",
   "metadata": {},
   "source": [
    "## Import Libraries"
   ]
  },
  {
   "cell_type": "code",
   "execution_count": null,
   "metadata": {},
   "outputs": [],
   "source": [
    "# import torch\n",
    "# import pandas as pd\n",
    "# import os\n",
    "# from pathlib import Path\n",
    "# from transformers import (\n",
    "#     AutoTokenizer, \n",
    "#     AutoModelForCausalLM, \n",
    "#     pipeline, \n",
    "#     BitsAndBytesConfig\n",
    "# )\n",
    "# import logging\n",
    "# import TextAnalysis as TA"
   ]
  },
  {
   "cell_type": "markdown",
   "metadata": {},
   "source": [
    "## Choose Meta Llama Model"
   ]
  },
  {
   "cell_type": "code",
   "execution_count": 5,
   "metadata": {},
   "outputs": [],
   "source": [
    "# model_id = \"meta-llama/Llama-3.1-8B\""
   ]
  },
  {
   "cell_type": "markdown",
   "metadata": {},
   "source": [
    "## Set the Precision and Load the Tokenizer and Model from Backup"
   ]
  },
  {
   "cell_type": "code",
   "execution_count": null,
   "metadata": {},
   "outputs": [],
   "source": [
    "# bnb_config = BitsAndBytesConfig(\n",
    "#     load_in_4bit=True,\n",
    "#     bnb_4bit_use_double_quant=True,\n",
    "#     bnb_4bit_quant_type=\"nf4\",\n",
    "#     bnb_4bit_compute_dtype=torch.bfloat16\n",
    "# )\n",
    "\n",
    "# tokenizer = AutoTokenizer.from_pretrained(\"/nobackup/ielhaime/models/\")\n",
    "# tokenizer.pad_token = tokenizer.eos_token\n",
    "# model = AutoModelForCausalLM.from_pretrained(\n",
    "#     \"/nobackup/ielhaime/models/\",\n",
    "#     quantization_config=bnb_config,\n",
    "#     device_map=\"auto\")\n"
   ]
  },
  {
   "cell_type": "markdown",
   "metadata": {},
   "source": [
    "## Setup the Text Gen Pipeline and Set Size of Reponse"
   ]
  },
  {
   "cell_type": "code",
   "execution_count": null,
   "metadata": {},
   "outputs": [],
   "source": [
    "# text_generator = pipeline(\n",
    "#     \"text_generation\",\n",
    "#     tokenizer=tokenizer,\n",
    "#     model=model,\n",
    "#     max_new_tokens=512\n",
    "#     )"
   ]
  },
  {
   "cell_type": "markdown",
   "metadata": {},
   "source": [
    "## Summary Function"
   ]
  },
  {
   "cell_type": "code",
   "execution_count": null,
   "metadata": {},
   "outputs": [],
   "source": [
    "# def get_summary(document):\n",
    "#     response = text_generator(document)\n",
    "#     gen_text = response[0]['generated_text']\n",
    "#     return gen_text"
   ]
  },
  {
   "cell_type": "markdown",
   "metadata": {},
   "source": [
    "# Stopwords Load"
   ]
  },
  {
   "cell_type": "code",
   "execution_count": 21,
   "metadata": {},
   "outputs": [],
   "source": [
    "# def load_stopwords(filepath='stopwords.txt'):\n",
    "#     \"\"\"\n",
    "#     Load stopwords from file or create default if doesn't exist.\n",
    "#     Returns set of stopwords.\n",
    "#     \"\"\"\n",
    "#     default_stopwords = {\n",
    "#         'a', 'an', 'and', 'are', 'as', 'at', 'be', 'by', 'for', 'from',\n",
    "#         'has', 'he', 'in', 'is', 'it', 'its', 'of', 'on', 'that', 'the',\n",
    "#         'to', 'was', 'were', 'will', 'with', 'the', 'this', 'but', 'they',\n",
    "#         'have', 'had', 'what', 'when', 'where', 'who', 'which', 'why', 'how'\n",
    "#     }\n",
    "    \n",
    "#     if not os.path.exists(filepath):\n",
    "#         logging.info(f\"Stopwords file not found at {filepath}. Creating default stopwords file.\")\n",
    "#         with open(filepath, 'w', encoding='utf-8') as f:\n",
    "#             f.write('\\n'.join(sorted(default_stopwords)))\n",
    "#         return default_stopwords\n",
    "    \n",
    "#     with open(filepath, 'r', encoding='utf-8') as f:\n",
    "#         stopwords = {word.strip() for word in f.readlines() if word.strip()}\n",
    "    \n",
    "#     logging.info(f\"Loaded {len(stopwords)} stopwords from {filepath}\")\n",
    "#     return stopwords\n",
    "\n",
    "# # Create/load stopwords\n",
    "# stopwords = load_stopwords()"
   ]
  },
  {
   "cell_type": "markdown",
   "metadata": {},
   "source": [
    "# N-Grams"
   ]
  },
  {
   "cell_type": "code",
   "execution_count": 31,
   "metadata": {},
   "outputs": [],
   "source": [
    "# def process_summaries(df, stopwords_path):\n",
    "#     \"\"\"Process summaries and calculate n-grams using TextAnalysis module.\"\"\"\n",
    "#     # Load stopwords at the start of processing\n",
    "#     stopwords = stopwords_path\n",
    "    \n",
    "#     results = {\n",
    "#         'Summaries Top 10 Words': [],\n",
    "#         'Summaries Top 10 Bigrams': [],\n",
    "#         'Summaries Top 10 Trigrams': []\n",
    "#     }\n",
    "    \n",
    "#     for _, row in df.iterrows():\n",
    "#         summaries = row.get('Summary', '')\n",
    "#         if pd.isna(summaries) or summaries == '':\n",
    "#             empty_result = [('', 0)] * 10\n",
    "#             for key in results:\n",
    "#                 results[key].append(empty_result)\n",
    "#             continue\n",
    "            \n",
    "#         results['Summaries Top 10 Words'].append(TA.topwords(summaries, stopwords))\n",
    "#         results['Summaries Top 10 Bigrams'].append(TA.topbigrams(summaries, stopwords))\n",
    "#         results['Summaries Top 10 Trigrams'].append(TA.toptrigrams(summaries, stopwords))\n",
    "    \n",
    "#     # Add results to DataFrame\n",
    "#     for key in results:\n",
    "#         df[key] = results[key]\n",
    "    \n",
    "#     return df"
   ]
  },
  {
   "cell_type": "markdown",
   "metadata": {},
   "source": [
    "## Get Summaries"
   ]
  },
  {
   "cell_type": "code",
   "execution_count": null,
   "metadata": {},
   "outputs": [],
   "source": [
    "# import os\n",
    "# import pandas as pd\n",
    "# from pathlib import Path\n",
    "\n",
    "# def get_summary(document):\n",
    "#     \"\"\"Generate a summary for a given document text.\"\"\"\n",
    "#     # response = text_generator(document)\n",
    "#     # gen_text = response[0]['generated_text']\n",
    "#     # return gen_text\n",
    "#     return document\n",
    "\n",
    "# def read_text_file(file_path):\n",
    "#     \"\"\"Read and return the contents of a text file.\"\"\"\n",
    "#     try:\n",
    "#         with open(file_path, 'r', encoding='utf-8') as file:\n",
    "#             return file.read()\n",
    "#     except UnicodeDecodeError:\n",
    "#         # Try a different encoding if UTF-8 fails\n",
    "#         with open(file_path, 'r', encoding='latin-1') as file:\n",
    "#             return file.read()\n",
    "#     except Exception as e:\n",
    "#         print(f\"Error reading file {file_path}: {str(e)}\")\n",
    "#         return None\n",
    "\n",
    "# def process_directory(directory_path='content', output_file='summaries.csv'):\n",
    "#     \"\"\"\n",
    "#     Process all text files in the specified directory and save summaries to CSV using pandas.\n",
    "    \n",
    "#     Args:\n",
    "#         directory_path (str): Path to the directory containing text files\n",
    "#         output_file (str): Name of the output CSV file\n",
    "    \n",
    "#     Returns:\n",
    "#         pandas.DataFrame: DataFrame containing the summaries, or None if no files were processed\n",
    "#     \"\"\"\n",
    "#     # Create content directory if it doesn't exist\n",
    "#     Path(directory_path).mkdir(exist_ok=True)\n",
    "    \n",
    "#     # Get all .txt files in the directory\n",
    "#     txt_files = [f for f in os.listdir(directory_path) if f.endswith('.txt')]\n",
    "    \n",
    "#     if not txt_files:\n",
    "#         print(f\"No text files found in {directory_path}\")\n",
    "#         return None\n",
    "    \n",
    "#     # Process each file and store results\n",
    "#     summaries = []\n",
    "#     for file_name in txt_files:\n",
    "#         file_path = os.path.join(directory_path, file_name)\n",
    "#         print(f\"Processing {file_name}...\")\n",
    "        \n",
    "#         # Read the file content\n",
    "#         content = read_text_file(file_path)\n",
    "#         if content is None:\n",
    "#             continue\n",
    "            \n",
    "#         try:\n",
    "#             # Generate summary\n",
    "#             summary = get_summary(content)\n",
    "#             summaries.append({\n",
    "#                 'file_name': file_name,\n",
    "#                 'Summary': summary\n",
    "#             })\n",
    "#         except Exception as e:\n",
    "#             print(f\"Error processing {file_name}: {str(e)}\")\n",
    "#             continue\n",
    "    \n",
    "#     # Create DataFrame from summaries\n",
    "#     if summaries:\n",
    "#         try:\n",
    "#             # Convert list of dictionaries to DataFrame\n",
    "#             df = pd.DataFrame(summaries)\n",
    "            \n",
    "#             # Save to CSV\n",
    "#             df.to_csv(output_file, index=False, encoding='utf-8')\n",
    "#             print(f\"Summaries saved to {output_file}\")\n",
    "            \n",
    "#             return df\n",
    "#         except Exception as e:\n",
    "#             print(f\"Error creating DataFrame or saving to CSV: {str(e)}\")\n",
    "#             return None\n",
    "#     else:\n",
    "#         print(\"No summaries were generated\")\n",
    "#         return None\n",
    "\n",
    "# def save_dataframe(df, filename='summaries.csv'):\n",
    "#     \"\"\"\n",
    "#     Save the DataFrame as a CSV file.\n",
    "    \n",
    "#     Args:\n",
    "#         df (pandas.DataFrame): DataFrame to save\n",
    "#         filename (str): Name of the output CSV file\n",
    "#     \"\"\"\n",
    "#     try:\n",
    "#         df.to_csv(filename, index=False, encoding='utf-8')\n",
    "#         print(f\"Successfully saved DataFrame to {filename}\")\n",
    "#     except Exception as e:\n",
    "#         print(f\"Error saving DataFrame to CSV: {str(e)}\")\n",
    "\n",
    "# if __name__ == \"__main__\":\n",
    "#     # Process the directory and get the DataFrame\n",
    "#     df = process_directory()\n",
    "    \n",
    "#     if df is not None:\n",
    "#         # Display summary information\n",
    "#         print(\"\\nSummary of processed files:\")\n",
    "#         print(f\"Total files processed: {len(df)}\")\n",
    "#         process_summaries(df, \"stopwords.txt\")\n",
    "#         print(\"\\nFirst few entries:\")\n",
    "#         print(df.head())\n",
    "        \n",
    "#         # Save DataFrame to CSV\n",
    "#         save_dataframe(df, 'summaries.csv')"
   ]
  },
  {
   "cell_type": "code",
   "execution_count": null,
   "metadata": {},
   "outputs": [],
   "source": []
  }
 ],
 "metadata": {
  "kernelspec": {
   "display_name": "Python 3",
   "language": "python",
   "name": "python3"
  },
  "language_info": {
   "codemirror_mode": {
    "name": "ipython",
    "version": 3
   },
   "file_extension": ".py",
   "mimetype": "text/x-python",
   "name": "python",
   "nbconvert_exporter": "python",
   "pygments_lexer": "ipython3",
   "version": "3.12.3"
  }
 },
 "nbformat": 4,
 "nbformat_minor": 2
}
