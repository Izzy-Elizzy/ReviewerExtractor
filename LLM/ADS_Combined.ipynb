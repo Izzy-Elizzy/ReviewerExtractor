{
 "cells": [
  {
   "cell_type": "code",
   "execution_count": null,
   "metadata": {},
   "outputs": [],
   "source": [
    "import pandas as pd\n",
    "import requests"
   ]
  },
  {
   "cell_type": "code",
   "execution_count": null,
   "metadata": {},
   "outputs": [],
   "source": [
    "# Pipeline here: ADS_Search -> Download Clean Papers -> Summarize -> Concat Together -> N-Gram -> Output CSV"
   ]
  },
  {
   "cell_type": "code",
   "execution_count": null,
   "metadata": {},
   "outputs": [
    {
     "name": "stdout",
     "output_type": "stream",
     "text": [
      "Cleaned: content\\2410.11851v1.txt\n",
      "Cleaned: content\\2410.17135v1.txt\n",
      "Cleaned: content\\2410.17142v1.txt\n",
      "Cleaned: content\\2410.17163v1.txt\n",
      "Cleaned: content\\2410.17169v1.txt\n",
      "Cleaned: content\\2410.17176v1.txt\n",
      "Cleaned: content\\2410.17178v1.txt\n",
      "Cleaned: content\\2410.17187v1.txt\n",
      "Cleaned: content\\2410.17189v1.txt\n",
      "Cleaned: content\\2410.17232v1.txt\n",
      "Cleaned: content\\2410.17252v1.txt\n"
     ]
    }
   ],
   "source": [
    "# import os\n",
    "# import re\n",
    "# from pathlib import Path\n",
    "\n",
    "# def clean_text_files(directory):\n",
    "#     # Convert directory to Path object\n",
    "#     dir_path = Path(directory)\n",
    "    \n",
    "#     # Walk through all files in directory and subdirectories\n",
    "#     for file_path in dir_path.rglob('*.txt'):\n",
    "#         try:\n",
    "#             # Read the original content\n",
    "#             with open(file_path, 'r', encoding='utf-8') as file:\n",
    "#                 content = file.read()\n",
    "            \n",
    "#             # First remove special characters (keeping letters and numbers)\n",
    "#             cleaned_content = re.sub(r'[^a-zA-Z0-9]', '', content)\n",
    "            \n",
    "#             # Write the cleaned content back to the file\n",
    "#             with open(file_path, 'w', encoding='utf-8') as file:\n",
    "#                 file.write(cleaned_content)\n",
    "            \n",
    "#             print(f\"Cleaned: {file_path}\")\n",
    "            \n",
    "#         except Exception as e:\n",
    "#             print(f\"Error processing {file_path}: {str(e)}\")\n",
    "\n",
    "# clean_text_files('./content/')"
   ]
  }
 ],
 "metadata": {
  "kernelspec": {
   "display_name": "Python 3",
   "language": "python",
   "name": "python3"
  },
  "language_info": {
   "codemirror_mode": {
    "name": "ipython",
    "version": 3
   },
   "file_extension": ".py",
   "mimetype": "text/x-python",
   "name": "python",
   "nbconvert_exporter": "python",
   "pygments_lexer": "ipython3",
   "version": "3.12.3"
  }
 },
 "nbformat": 4,
 "nbformat_minor": 2
}
