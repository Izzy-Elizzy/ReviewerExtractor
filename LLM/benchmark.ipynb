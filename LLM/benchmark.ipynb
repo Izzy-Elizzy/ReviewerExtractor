{
 "cells": [
  {
   "cell_type": "code",
   "execution_count": 1,
   "metadata": {},
   "outputs": [],
   "source": [
    "import torch\n",
    "from transformers import AutoTokenizer, AutoModel \n",
    "import spacy \n",
    "from nltk.corpus import stopwords \n",
    "from sklearn.metrics.pairwise import cosine_similarity\n",
    "import numpy as np "
   ]
  },
  {
   "cell_type": "code",
   "execution_count": 2,
   "metadata": {},
   "outputs": [],
   "source": [
    "\n",
    "\n",
    "class SummarizationBenchmark:\n",
    "    def __init__(self, model_name=\"allenai/scibert_scivocab_uncased\"):\n",
    "        self.device = torch.device(\"cuda\" if torch.cuda.is_available() else \"cpu\")\n",
    "        self.model = AutoModel.from_pretrained(model_name).to(self.device)\n",
    "        self.tokenizer = AutoTokenizer.from_pretrained(model_name)\n",
    "        self.nlp = spacy.load(\"en_core_web_sm\")\n",
    "        self.stop_words = set(stopwords.words('english'))\n",
    "\n",
    "    def get_embedding(self, text):\n",
    "        inputs = self.tokenizer(text, return_tensors=\"pt\", truncation=True, max_length=512, padding=True).to(self.device)\n",
    "        with torch.no_grad():\n",
    "            outputs = self.model(**inputs)\n",
    "        return outputs.last_hidden_state.mean(dim=1).cpu().numpy()\n",
    "\n",
    "    def semantic_similarity(self, doc, summary):\n",
    "        doc_emb = self.get_embedding(doc)\n",
    "        sum_emb = self.get_embedding(summary)\n",
    "        return cosine_similarity(doc_emb, sum_emb)[0][0]\n",
    "\n",
    "    def jaccard_similarity(self, doc, summary):\n",
    "        \"\"\"Calculates Jaccard similarity between two texts.\"\"\"\n",
    "        doc_tokens = [token.text for token in self.nlp(doc) if not token.is_stop and not token.is_punct]\n",
    "        sum_tokens = [token.text for token in self.nlp(summary) if not token.is_stop and not token.is_punct]\n",
    "        intersection = len(set(doc_tokens) & set(sum_tokens))\n",
    "        union = len(set(doc_tokens) | set(sum_tokens))\n",
    "        return intersection / union if union > 0 else 0  \n",
    "\n",
    "    def benchmark(self, document, summary):\n",
    "        \"\"\"Calculates and returns benchmark scores.\"\"\"\n",
    "        results = {}\n",
    "        results['semantic_similarity'] = self.semantic_similarity(document, summary)\n",
    "        results['jaccard_similarity'] = self.jaccard_similarity(document, summary)\n",
    "        return results"
   ]
  },
  {
   "cell_type": "code",
   "execution_count": null,
   "metadata": {},
   "outputs": [],
   "source": [
    "# benchmark = SummarizationBenchmark()\n",
    "\n",
    "# # Compare meta summary to standard summary\n",
    "# meta_results = benchmark.benchmark(standard_summary, meta_summary)\n",
    "# meta_similarity = score_metrics(meta_results)\n",
    "\n",
    "# # Compare large book summary to standard summary\n",
    "# large_book_results = benchmark.benchmark(standard_summary, large_book_summary)\n",
    "# large_book_similarity = score_metrics(large_book_results)\n",
    "\n",
    "# print(f\"Meta Summary Similarity Score: {meta_similarity:.4f}\")\n",
    "# print(f\"Large Book Summary Similarity Score: {large_book_similarity:.4f}\")"
   ]
  },
  {
   "cell_type": "code",
   "execution_count": null,
   "metadata": {},
   "outputs": [],
   "source": [
    "# Example usage\n",
    "benchmark = SummarizationBenchmark()\n",
    "document = \"document here\"\n",
    "summary = \"summary here\"\n",
    "results = benchmark.benchmark(document, summary)\n",
    "def score_metrics(m): return (m['semantic_similarity'])\n",
    "score_metrics(results)"
   ]
  }
 ],
 "metadata": {
  "kernelspec": {
   "display_name": "Python 3",
   "language": "python",
   "name": "python3"
  },
  "language_info": {
   "codemirror_mode": {
    "name": "ipython",
    "version": 3
   },
   "file_extension": ".py",
   "mimetype": "text/x-python",
   "name": "python",
   "nbconvert_exporter": "python",
   "pygments_lexer": "ipython3",
   "version": "3.12.3"
  }
 },
 "nbformat": 4,
 "nbformat_minor": 2
}
