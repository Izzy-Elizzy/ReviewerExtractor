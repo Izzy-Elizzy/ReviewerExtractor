{
 "cells": [
  {
   "cell_type": "code",
   "execution_count": 3,
   "metadata": {},
   "outputs": [
    {
     "name": "stderr",
     "output_type": "stream",
     "text": [
      "[nltk_data] Downloading package stopwords to\n",
      "[nltk_data]     C:\\Users\\admin\\AppData\\Roaming\\nltk_data...\n",
      "[nltk_data]   Package stopwords is already up-to-date!\n"
     ]
    },
    {
     "data": {
      "text/plain": [
       "True"
      ]
     },
     "execution_count": 3,
     "metadata": {},
     "output_type": "execute_result"
    }
   ],
   "source": [
    "import torch\n",
    "from transformers import AutoTokenizer, AutoModel\n",
    "from sklearn.metrics.pairwise import cosine_similarity\n",
    "from rouge_score import rouge_scorer\n",
    "from nltk.tokenize import word_tokenize\n",
    "from nltk.corpus import stopwords\n",
    "from sklearn.feature_extraction.text import TfidfVectorizer\n",
    "from sklearn.decomposition import LatentDirichletAllocation\n",
    "import numpy as np\n",
    "import spacy\n",
    "import nltk\n",
    "nltk.download('stopwords')"
   ]
  },
  {
   "cell_type": "code",
   "execution_count": 19,
   "metadata": {},
   "outputs": [],
   "source": [
    "class SummarizationBenchmark:\n",
    "    def __init__(self, model_name=\"allenai/scibert_scivocab_uncased\"):\n",
    "        self.device = torch.device(\"cuda\" if torch.cuda.is_available() else \"cpu\")\n",
    "        self.model = AutoModel.from_pretrained(model_name).to(self.device)\n",
    "        self.tokenizer = AutoTokenizer.from_pretrained(model_name)\n",
    "        self.rouge_scorer = rouge_scorer.RougeScorer(['rouge1', 'rouge2', 'rougeL'], use_stemmer=True)\n",
    "        self.nlp = spacy.load(\"en_core_web_sm\")\n",
    "        self.stop_words = set(stopwords.words('english'))\n",
    "\n",
    "    def get_embedding(self, text):\n",
    "        inputs = self.tokenizer(text, return_tensors=\"pt\", truncation=True, max_length=512, padding=True).to(self.device)\n",
    "        with torch.no_grad():\n",
    "            outputs = self.model(**inputs)\n",
    "        return outputs.last_hidden_state.mean(dim=1).cpu().numpy()\n",
    "\n",
    "    def semantic_similarity(self, doc, summary):\n",
    "        doc_emb = self.get_embedding(doc)\n",
    "        sum_emb = self.get_embedding(summary)\n",
    "        return cosine_similarity(doc_emb, sum_emb)[0][0]\n",
    "\n",
    "    def calculate_rouge(self, doc, summary):\n",
    "        scores = self.rouge_scorer.score(doc, summary)\n",
    "        return {key: value.fmeasure for key, value in scores.items()}\n",
    "\n",
    "    def extract_keywords(self, text):\n",
    "        doc = self.nlp(text)\n",
    "        keywords = [token.text for token in doc if not token.is_stop and token.is_alpha]\n",
    "        return keywords\n",
    "    \n",
    "    def preprocess_text(self, text):\n",
    "        tokens = word_tokenize(text.lower())\n",
    "        filtered_tokens = [token for token in tokens if token not in stopwords.words('english') and token.isalpha() and len(token) > 3]\n",
    "        return filtered_tokens\n",
    "\n",
    "    # def preprocess_text(self, text):\n",
    "    #     result = []\n",
    "    #     for token in simple_preprocess(text):\n",
    "    #         if token not in stopwords.words('english') and len(token) > 3:\n",
    "    #             result.append(token)\n",
    "    #     return result\n",
    "\n",
    "    def topic_modeling(self, doc, summary, num_topics=5):\n",
    "        texts = [self.preprocess_text(doc), self.preprocess_text(summary)]\n",
    "\n",
    "        # Join tokens back into strings\n",
    "        texts = [' '.join(text) for text in texts]  \n",
    "\n",
    "        vectorizer = TfidfVectorizer(max_df=1, min_df=1, stop_words='english') \n",
    "        vectorized_data = vectorizer.fit_transform(texts)\n",
    "        \n",
    "        lda_model = LatentDirichletAllocation(n_components=num_topics, random_state=100)  # Adjust n_components\n",
    "        lda_model.fit(vectorized_data)\n",
    "\n",
    "        doc_topics = lda_model.transform(vectorized_data)[0]\n",
    "        sum_topics = lda_model.transform(vectorized_data)[1]\n",
    "        \n",
    "        # Get the topics\n",
    "        topics = []\n",
    "        for i in range(lda_model.n_components):\n",
    "            top_words = [vectorizer.get_feature_names_out()[j] for j in lda_model.components_[i].argsort()[:-11:-1]]\n",
    "            topics.append(f\"Topic {i}: {', '.join(top_words)}\")\n",
    "\n",
    "        return doc_topics, sum_topics, topics\n",
    "\n",
    "    def entity_overlap(self, doc, summary):\n",
    "        doc_entities = set([ent.text for ent in self.nlp(doc).ents])\n",
    "        sum_entities = set([ent.text for ent in self.nlp(summary).ents])\n",
    "        overlap = doc_entities.intersection(sum_entities)\n",
    "        return len(overlap) / len(doc_entities) if doc_entities else 0\n",
    "\n",
    "    def benchmark(self, document, summary):\n",
    "        results = {}\n",
    "        results['semantic_similarity'] = self.semantic_similarity(document, summary)\n",
    "        # results['rouge_scores'] = self.calculate_rouge(document, summary)\n",
    "        # results['conciseness'] = len(summary.split()) / len(document.split())\n",
    "        # results['keyword_overlap'] = len(set(self.extract_keywords(document)) & set(self.extract_keywords(summary))) / len(set(self.extract_keywords(document)))\n",
    "        # doc_topics, sum_topics, topics = self.topic_modeling(document, summary)\n",
    "        # results['topic_similarity'] = sum(min(dt, st) for dt in doc_topics for st in sum_topics)\n",
    "        # results['entity_overlap'] = self.entity_overlap(document, summary)\n",
    "        # results['topics'] = topics\n",
    "        return results"
   ]
  },
  {
   "cell_type": "code",
   "execution_count": 25,
   "metadata": {},
   "outputs": [
    {
     "data": {
      "text/plain": [
       "{'semantic_similarity': np.float32(0.820957)}"
      ]
     },
     "execution_count": 25,
     "metadata": {},
     "output_type": "execute_result"
    }
   ],
   "source": [
    "# Example usage\n",
    "benchmark = SummarizationBenchmark()\n",
    "document = \"document here\"\n",
    "summary = \"summary here\"\n",
    "results = benchmark.benchmark(document, summary)\n",
    "def score_metrics(m): return min(1, max(0, 0.35*float(m['semantic_similarity']) + 0.15*sum(m['rouge_scores'].values())/3 + 0.1*float(m['conciseness']) + 0.25*(float(m['topic_similarity'])/5) + 0.05*float(m['keyword_overlap']) + 0.1*float(m['entity_overlap'])))\n",
    "score_metrics(results)"
   ]
  }
 ],
 "metadata": {
  "kernelspec": {
   "display_name": "Python 3",
   "language": "python",
   "name": "python3"
  },
  "language_info": {
   "codemirror_mode": {
    "name": "ipython",
    "version": 3
   },
   "file_extension": ".py",
   "mimetype": "text/x-python",
   "name": "python",
   "nbconvert_exporter": "python",
   "pygments_lexer": "ipython3",
   "version": "3.12.3"
  }
 },
 "nbformat": 4,
 "nbformat_minor": 2
}
