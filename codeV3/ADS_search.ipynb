{
 "cells": [
  {
   "cell_type": "code",
   "execution_count": null,
   "metadata": {
    "colab": {
     "base_uri": "https://localhost:8080/"
    },
    "id": "QvZzQgzfwI5n",
    "outputId": "9f21f6a6-5e92-4db9-c538-1e4cbc47324e"
   },
   "outputs": [
    {
     "name": "stdout",
     "output_type": "stream",
     "text": [
      "Drive already mounted at /content/drive; to attempt to forcibly remount, call drive.mount(\"/content/drive\", force_remount=True).\n"
     ]
    }
   ],
   "source": [
    "from google.colab import drive\n",
    "drive.mount('/content/drive')"
   ]
  },
  {
   "cell_type": "code",
   "execution_count": 1,
   "metadata": {
    "colab": {
     "base_uri": "https://localhost:8080/"
    },
    "id": "Zz61FuSWelHD",
    "outputId": "fb3e71f2-93b5-4133-bcf7-c16ed767900c"
   },
   "outputs": [
    {
     "name": "stderr",
     "output_type": "stream",
     "text": [
      "[nltk_data] Downloading package punkt to\n",
      "[nltk_data]     C:\\Users\\admin\\AppData\\Roaming\\nltk_data...\n",
      "[nltk_data]   Package punkt is already up-to-date!\n",
      "[nltk_data] Downloading package wordnet to\n",
      "[nltk_data]     C:\\Users\\admin\\AppData\\Roaming\\nltk_data...\n",
      "[nltk_data]   Package wordnet is already up-to-date!\n",
      "[nltk_data] Downloading package punkt_tab to\n",
      "[nltk_data]     C:\\Users\\admin\\AppData\\Roaming\\nltk_data...\n",
      "[nltk_data]   Package punkt_tab is already up-to-date!\n"
     ]
    },
    {
     "data": {
      "text/plain": [
       "True"
      ]
     },
     "execution_count": 1,
     "metadata": {},
     "output_type": "execute_result"
    }
   ],
   "source": [
    "import requests\n",
    "from urllib.parse import urlencode, quote_plus\n",
    "import numpy as np\n",
    "import sys\n",
    "\n",
    "import nltk\n",
    "nltk.download('punkt')\n",
    "nltk.download('wordnet')\n",
    "nltk.download('punkt_tab')"
   ]
  },
  {
   "cell_type": "markdown",
   "metadata": {
    "id": "d0l4NgMOwG5r"
   },
   "source": [
    "**Pandas Version**<br>\n",
    "Here we import pandas in a different cell because this code requires Pandas version 1.5.3<br> If the users Pandas version differs from 1.5.3 there is a 'pip install' line that should be run to ensure the proper version of Pandas."
   ]
  },
  {
   "cell_type": "code",
   "execution_count": 2,
   "metadata": {
    "colab": {
     "base_uri": "https://localhost:8080/"
    },
    "id": "10Bc3lOGeqYS",
    "outputId": "46837eca-e939-4ab5-ca81-0f1afee86baa"
   },
   "outputs": [
    {
     "name": "stdout",
     "output_type": "stream",
     "text": [
      "2.2.2\n"
     ]
    }
   ],
   "source": [
    "#We designed the code to work with Pandas 1.5.3\n",
    "import pandas as pd\n",
    "print(pd. __version__)\n",
    "\n",
    "#If the Pandas version differs from 1.5.3, run the following:\n",
    "#pip install pandas==1.5.3 --user"
   ]
  },
  {
   "cell_type": "markdown",
   "metadata": {
    "id": "butCJ77F2K_K"
   },
   "source": [
    "# **Citing this code**\n",
    "This code is the second version of a Expertise finding tool developed by Volz et al. 2023 (https://ui.adsabs.harvard.edu/abs/2023AAS...24210207V/abstract).<br>\n",
    "It utilizes NASA ADS API to query for articles (refereed or not) in the \"Astronomy\" database (cite ADS).\n",
    "Please, cite \"Helfenbein et al. 2023 (in prep) and refer to the README file in the github."
   ]
  },
  {
   "cell_type": "markdown",
   "metadata": {
    "id": "f8Ktffmlx6Qd"
   },
   "source": [
    "**Directory set up**<br>\n",
    "The file *stopwords.txt* is utilized to create meaningful N-grams. Make sure to provide an accurate path in the following cell.<br> Also, the path will be used by the code in other instances to identify other useful files."
   ]
  },
  {
   "cell_type": "code",
   "execution_count": 3,
   "metadata": {
    "id": "OiBplztjesQ5"
   },
   "outputs": [],
   "source": [
    "path_stop= ''\n",
    "stop_file='stopwords.txt'\n",
    "stop_dir=path_stop+stop_file\n",
    "sys.path.append(path_stop)"
   ]
  },
  {
   "cell_type": "code",
   "execution_count": 4,
   "metadata": {
    "id": "48rCvxEweuUv"
   },
   "outputs": [],
   "source": [
    "#For the TextAnalysis File, please refer to M. Volze et al. 2023\n",
    "import TextAnalysis as TA\n",
    "import ADSsearcherpkg as AP"
   ]
  },
  {
   "cell_type": "code",
   "execution_count": null,
   "metadata": {
    "id": "pyKppFIVewle"
   },
   "outputs": [],
   "source": [
    "#token = 'Your own token from ADS API page ' #Insert your API token"
   ]
  },
  {
   "cell_type": "markdown",
   "metadata": {
    "id": "kE8Y7GfdfCh1"
   },
   "source": [
    "# **Example 1: Searching expertises of a single person based on their name**"
   ]
  },
  {
   "cell_type": "markdown",
   "metadata": {
    "id": "jCHVPlVCgiSR"
   },
   "source": [
    "The search will focus on papers published by a specific author in the past 15 years independently of the current affiliation:<br>\n",
    "The format for a single author search is as follows: **\"Last, First\"**<br>\n",
    "In the following example we search for Dr. Joshua Pepper expertise. <br>\n",
    "**Note:** the user can decide to query ONLY refereed paper adding, before the token keyword the following keyword:<br>\n",
    "**refereed=\"property:refereed\"**\n"
   ]
  },
  {
   "cell_type": "code",
   "execution_count": null,
   "metadata": {
    "id": "oD_utgaigqfi"
   },
   "outputs": [],
   "source": [
    "datf=AP.ads_search(name=\"Pepper, Joshua\",\n",
    "               token=token, stop_dir=stop_dir)"
   ]
  },
  {
   "cell_type": "code",
   "execution_count": null,
   "metadata": {
    "colab": {
     "base_uri": "https://localhost:8080/",
     "height": 257
    },
    "id": "Gb099pC0l0K5",
    "outputId": "dc6002fd-456d-4b40-c063-7e310c65b62d"
   },
   "outputs": [
    {
     "data": {
      "text/html": [
       "\n",
       "  <div id=\"df-4f62b744-c14e-4c67-a227-d0a7bc81fe17\" class=\"colab-df-container\">\n",
       "    <div>\n",
       "<style scoped>\n",
       "    .dataframe tbody tr th:only-of-type {\n",
       "        vertical-align: middle;\n",
       "    }\n",
       "\n",
       "    .dataframe tbody tr th {\n",
       "        vertical-align: top;\n",
       "    }\n",
       "\n",
       "    .dataframe thead th {\n",
       "        text-align: right;\n",
       "    }\n",
       "</style>\n",
       "<table border=\"1\" class=\"dataframe\">\n",
       "  <thead>\n",
       "    <tr style=\"text-align: right;\">\n",
       "      <th></th>\n",
       "      <th>Input Author</th>\n",
       "      <th>Input Institution</th>\n",
       "      <th>First Author</th>\n",
       "      <th>Bibcode</th>\n",
       "      <th>Title</th>\n",
       "      <th>Publication Date</th>\n",
       "      <th>Keywords</th>\n",
       "      <th>Affiliations</th>\n",
       "      <th>Abstract</th>\n",
       "      <th>Top 10 Words</th>\n",
       "      <th>Top 10 Bigrams</th>\n",
       "      <th>Top 10 Trigrams</th>\n",
       "      <th>Data Type</th>\n",
       "    </tr>\n",
       "  </thead>\n",
       "  <tbody>\n",
       "    <tr>\n",
       "      <th>0</th>\n",
       "      <td>Pepper, Joshua</td>\n",
       "      <td>None, None, None, None, None, None, None, None...</td>\n",
       "      <td>Pepper, Joshua, Pepper, Joshua, Pepper, Joshua...</td>\n",
       "      <td>2021plat.confE..96P, 2021tsc2.confE.139P, 2020...</td>\n",
       "      <td>The TESS Input Catalog and lessons for PLATO, ...</td>\n",
       "      <td>2021-10-00, 2021-07-00, 2020-06-00, 2020-01-00...</td>\n",
       "      <td>Input catalogue, TESS, Zenodo community plato2...</td>\n",
       "      <td>Lehigh University, Lehigh University, Departme...</td>\n",
       "      <td>The presentation compares the input catalogues...</td>\n",
       "      <td>[(star, 78), (kelt, 62), (planet, 46), (transi...</td>\n",
       "      <td>[((radial, velocity), 18), ((transiting, plane...</td>\n",
       "      <td>[((transiting, planets, bright), 6), ((planets...</td>\n",
       "      <td>Dirty, Dirty, Clean, Dirty, Clean, Clean, Clea...</td>\n",
       "    </tr>\n",
       "  </tbody>\n",
       "</table>\n",
       "</div>\n",
       "    <div class=\"colab-df-buttons\">\n",
       "\n",
       "  <div class=\"colab-df-container\">\n",
       "    <button class=\"colab-df-convert\" onclick=\"convertToInteractive('df-4f62b744-c14e-4c67-a227-d0a7bc81fe17')\"\n",
       "            title=\"Convert this dataframe to an interactive table.\"\n",
       "            style=\"display:none;\">\n",
       "\n",
       "  <svg xmlns=\"http://www.w3.org/2000/svg\" height=\"24px\" viewBox=\"0 -960 960 960\">\n",
       "    <path d=\"M120-120v-720h720v720H120Zm60-500h600v-160H180v160Zm220 220h160v-160H400v160Zm0 220h160v-160H400v160ZM180-400h160v-160H180v160Zm440 0h160v-160H620v160ZM180-180h160v-160H180v160Zm440 0h160v-160H620v160Z\"/>\n",
       "  </svg>\n",
       "    </button>\n",
       "\n",
       "  <style>\n",
       "    .colab-df-container {\n",
       "      display:flex;\n",
       "      gap: 12px;\n",
       "    }\n",
       "\n",
       "    .colab-df-convert {\n",
       "      background-color: #E8F0FE;\n",
       "      border: none;\n",
       "      border-radius: 50%;\n",
       "      cursor: pointer;\n",
       "      display: none;\n",
       "      fill: #1967D2;\n",
       "      height: 32px;\n",
       "      padding: 0 0 0 0;\n",
       "      width: 32px;\n",
       "    }\n",
       "\n",
       "    .colab-df-convert:hover {\n",
       "      background-color: #E2EBFA;\n",
       "      box-shadow: 0px 1px 2px rgba(60, 64, 67, 0.3), 0px 1px 3px 1px rgba(60, 64, 67, 0.15);\n",
       "      fill: #174EA6;\n",
       "    }\n",
       "\n",
       "    .colab-df-buttons div {\n",
       "      margin-bottom: 4px;\n",
       "    }\n",
       "\n",
       "    [theme=dark] .colab-df-convert {\n",
       "      background-color: #3B4455;\n",
       "      fill: #D2E3FC;\n",
       "    }\n",
       "\n",
       "    [theme=dark] .colab-df-convert:hover {\n",
       "      background-color: #434B5C;\n",
       "      box-shadow: 0px 1px 3px 1px rgba(0, 0, 0, 0.15);\n",
       "      filter: drop-shadow(0px 1px 2px rgba(0, 0, 0, 0.3));\n",
       "      fill: #FFFFFF;\n",
       "    }\n",
       "  </style>\n",
       "\n",
       "    <script>\n",
       "      const buttonEl =\n",
       "        document.querySelector('#df-4f62b744-c14e-4c67-a227-d0a7bc81fe17 button.colab-df-convert');\n",
       "      buttonEl.style.display =\n",
       "        google.colab.kernel.accessAllowed ? 'block' : 'none';\n",
       "\n",
       "      async function convertToInteractive(key) {\n",
       "        const element = document.querySelector('#df-4f62b744-c14e-4c67-a227-d0a7bc81fe17');\n",
       "        const dataTable =\n",
       "          await google.colab.kernel.invokeFunction('convertToInteractive',\n",
       "                                                    [key], {});\n",
       "        if (!dataTable) return;\n",
       "\n",
       "        const docLinkHtml = 'Like what you see? Visit the ' +\n",
       "          '<a target=\"_blank\" href=https://colab.research.google.com/notebooks/data_table.ipynb>data table notebook</a>'\n",
       "          + ' to learn more about interactive tables.';\n",
       "        element.innerHTML = '';\n",
       "        dataTable['output_type'] = 'display_data';\n",
       "        await google.colab.output.renderOutput(dataTable, element);\n",
       "        const docLink = document.createElement('div');\n",
       "        docLink.innerHTML = docLinkHtml;\n",
       "        element.appendChild(docLink);\n",
       "      }\n",
       "    </script>\n",
       "  </div>\n",
       "\n",
       "    </div>\n",
       "  </div>\n"
      ],
      "text/plain": [
       "     Input Author                                  Input Institution  \\\n",
       "0  Pepper, Joshua  None, None, None, None, None, None, None, None...   \n",
       "\n",
       "                                        First Author  \\\n",
       "0  Pepper, Joshua, Pepper, Joshua, Pepper, Joshua...   \n",
       "\n",
       "                                             Bibcode  \\\n",
       "0  2021plat.confE..96P, 2021tsc2.confE.139P, 2020...   \n",
       "\n",
       "                                               Title  \\\n",
       "0  The TESS Input Catalog and lessons for PLATO, ...   \n",
       "\n",
       "                                    Publication Date  \\\n",
       "0  2021-10-00, 2021-07-00, 2020-06-00, 2020-01-00...   \n",
       "\n",
       "                                            Keywords  \\\n",
       "0  Input catalogue, TESS, Zenodo community plato2...   \n",
       "\n",
       "                                        Affiliations  \\\n",
       "0  Lehigh University, Lehigh University, Departme...   \n",
       "\n",
       "                                            Abstract  \\\n",
       "0  The presentation compares the input catalogues...   \n",
       "\n",
       "                                        Top 10 Words  \\\n",
       "0  [(star, 78), (kelt, 62), (planet, 46), (transi...   \n",
       "\n",
       "                                      Top 10 Bigrams  \\\n",
       "0  [((radial, velocity), 18), ((transiting, plane...   \n",
       "\n",
       "                                     Top 10 Trigrams  \\\n",
       "0  [((transiting, planets, bright), 6), ((planets...   \n",
       "\n",
       "                                           Data Type  \n",
       "0  Dirty, Dirty, Clean, Dirty, Clean, Clean, Clea...  "
      ]
     },
     "execution_count": 19,
     "metadata": {},
     "output_type": "execute_result"
    }
   ],
   "source": [
    "# To display the data frame run the following:\n",
    "datf\n",
    "# To save it in a excel format run the following:\n",
    "#datf.to_excel(path_stop+\"output.xlsx\")"
   ]
  },
  {
   "cell_type": "markdown",
   "metadata": {
    "id": "NhYJiM-TgHnk"
   },
   "source": [
    "# **Example 2: Searching expertises of ALL scientists that published as first authors when affiliated to single institution name**"
   ]
  },
  {
   "cell_type": "markdown",
   "metadata": {
    "id": "BzEADBytfPR_"
   },
   "source": [
    "The search will focus on papers and all authors that have published in the past 15 years at a specific institution (academic or otherwise): <br>\n",
    "The format for a single institution is as follows: **institution=\"Institution Name\"**. <br>\n",
    "**Caveat**: It is possible that the institutions as input by the user does not match what has been cataloged in ADS, therefore if the final output is empty, make sure to try different versions of the institution names (e.g. Cal Poly Pomona, Cal Poly, California Polytechnic State University) to get the most complete list of authors."
   ]
  },
  {
   "cell_type": "code",
   "execution_count": null,
   "metadata": {
    "colab": {
     "base_uri": "https://localhost:8080/"
    },
    "id": "5-CCxIkmfJfy",
    "outputId": "79dcf782-4cc1-47af-a68a-5c8d1220ba4c"
   },
   "outputs": [
    {
     "name": "stdout",
     "output_type": "stream",
     "text": [
      "I will search for every paper who first authors is afiliated with Hampton University and published in the past 15 years.\n",
      "\n",
      "I am now querying ADS.\n",
      "\n"
     ]
    }
   ],
   "source": [
    "datf=AP.ads_search(institution=\"Hampton University\",refereed=\"property:refereed\",\n",
    "               token=token, stop_dir=stop_dir)"
   ]
  },
  {
   "cell_type": "code",
   "execution_count": null,
   "metadata": {
    "id": "doN5GM4zfVX4"
   },
   "outputs": [],
   "source": [
    "# To display the data frame run the following:\n",
    "datf\n",
    "# To save it in a excel format run the following:\n",
    "#datf.to_excel(path_stop+\"output.xlsx\")"
   ]
  },
  {
   "cell_type": "markdown",
   "metadata": {
    "id": "9ve-8jI7gJV1"
   },
   "source": [
    "# **Example 3: Searching a single author publication while affiliated to a specific institution**"
   ]
  },
  {
   "cell_type": "markdown",
   "metadata": {
    "id": "88tt1j3bmZq1"
   },
   "source": [
    "The search will focus on papers published by a single author while they are affiliated to a specific institution, in the past 15 years:<br>\n",
    "\n",
    "The format for a single author and institution is as follows: **name= 'Last, First', institution= 'Institution Name'**."
   ]
  },
  {
   "cell_type": "code",
   "execution_count": null,
   "metadata": {
    "id": "H32FoRgemk2v",
    "scrolled": true
   },
   "outputs": [],
   "source": [
    "datf=AP.ads_search(name= 'Capper, Daniel', institution=\"University of Southern Mississippi\",\n",
    "               token=token, stop_dir=stop_dir)"
   ]
  },
  {
   "cell_type": "code",
   "execution_count": null,
   "metadata": {
    "id": "O9WpQ5fnwG5x"
   },
   "outputs": [],
   "source": [
    "# To display the data frame run the following:\n",
    "datf\n",
    "# To save it in a excel format run the following:\n",
    "#datf.to_excel(path_stop+\"output.xlsx\")"
   ]
  },
  {
   "cell_type": "markdown",
   "metadata": {
    "id": "i75m9bR9gJdB"
   },
   "source": [
    "# **Example 4: Searching a single author name within a different time-frame**"
   ]
  },
  {
   "cell_type": "markdown",
   "metadata": {
    "id": "BV3IJ1ODwG5y"
   },
   "source": [
    "The search will focus on papers from one single author that were published in a different time-frame. There are two options for doing so:\n",
    "   - A single year (e.g. 2010): in this case the code will query ADS for articles published by the specified authors between one year prior to 4  years after. So searching year='2010' will search articles between 2009 and 2014<br>\n",
    "   - A year range: in this case the syntax is year='[YEAR TO YEAR]' (e.g. year='[2009 TO 2023]') <br>\n",
    "\n",
    "The format for a single author name remains the same as before: **name= 'Last, First'**. <br>\n",
    "\n",
    "Here are two examples:\n",
    "- Searching for Dr. Pepper's articles between year 1999 and 2004\n",
    "- Searching for Dr. Pepper's articles between year 2019 and 2023"
   ]
  },
  {
   "cell_type": "code",
   "execution_count": null,
   "metadata": {
    "id": "wYW3Ng5Emlck"
   },
   "outputs": [],
   "source": [
    "datf=AP.ads_search(name= 'Pepper, Joshua', year='2000',\n",
    "               token=token, stop_dir=stop_dir)"
   ]
  },
  {
   "cell_type": "code",
   "execution_count": null,
   "metadata": {
    "id": "2ZrvBFHgwG5y"
   },
   "outputs": [],
   "source": [
    "# To display the data frame run the following:\n",
    "datf\n",
    "# To save it in a excel format run the following:\n",
    "#datf.to_excel(path_stop+\"output.xlsx\")"
   ]
  },
  {
   "cell_type": "code",
   "execution_count": null,
   "metadata": {
    "id": "3nqcQ42XwG5y"
   },
   "outputs": [],
   "source": [
    "datf=AP.ads_search(name= 'Pepper, Joshua', year='[2019 TO 2023]',\n",
    "               token=token, stop_dir=stop_dir)"
   ]
  },
  {
   "cell_type": "code",
   "execution_count": null,
   "metadata": {
    "id": "XciTTpIn7LQX"
   },
   "outputs": [],
   "source": [
    "datf"
   ]
  },
  {
   "cell_type": "markdown",
   "metadata": {
    "id": "MLYqtHbfgJhE"
   },
   "source": [
    "# **Example 5: Searching a single institution name within a specific time-frame**"
   ]
  },
  {
   "cell_type": "markdown",
   "metadata": {
    "id": "EO3mJmxzwG5y"
   },
   "source": [
    "The search will focus on authors that publishes as first authors affiliated to a specific institution in a defined timespan. <br>\n",
    "The format for a author name is the same in previous example (**\"Last name, First name\"**) and specified year range is similar to the option provided earlier:<br>\n",
    "   - A single year (e.g. 2010): in this case the code will query ADS for articles published by the specified authors between one year prior to 4  years after. So searching year='2010' will search articles between 2009 and 2014<br>\n",
    "   - A year range: in this case the syntax is year='[YEAR TO YEAR]' (e.g. year='[2009 TO 2023]') <br>\n",
    "\n",
    "Following we present two examples:"
   ]
  },
  {
   "cell_type": "code",
   "execution_count": null,
   "metadata": {
    "id": "Je_jZyFpml8r"
   },
   "outputs": [],
   "source": [
    "datf=AP.ads_search(institution=\"University of Southern Mississippi\",year='2000',\n",
    "               token=token, stop_dir=stop_dir)"
   ]
  },
  {
   "cell_type": "code",
   "execution_count": null,
   "metadata": {
    "id": "dhLKT3-jcCSz"
   },
   "outputs": [],
   "source": [
    "# To display the data frame run the following:\n",
    "datf\n",
    "# To save it in a excel format run the following:\n",
    "#datf.to_excel(path_stop+\"output.xlsx\")"
   ]
  },
  {
   "cell_type": "code",
   "execution_count": null,
   "metadata": {
    "id": "zHMmMvM6wG5z"
   },
   "outputs": [],
   "source": [
    "datf=AP.ads_search(institution=\"University of Southern Mississippi\",year='[1990 TO 2000]',\n",
    "               token=token, stop_dir=stop_dir)"
   ]
  },
  {
   "cell_type": "code",
   "execution_count": null,
   "metadata": {
    "id": "DG8mVYE4-WqE"
   },
   "outputs": [],
   "source": [
    "datf"
   ]
  },
  {
   "cell_type": "markdown",
   "metadata": {
    "id": "93GCVzbigJmG"
   },
   "source": [
    "# **Example 6: Searching a single Author, at a specific institution and within a specific time-frame**"
   ]
  },
  {
   "cell_type": "markdown",
   "metadata": {
    "id": "M2ZfN11BwG5z"
   },
   "source": [
    "The following example combines several of the previous ones in a single search.\n",
    "Specifically:<br>\n",
    "   - A single author<br>\n",
    "   - Affiliated to a single institutions<br>\n",
    "   - In a specific time frame of publications<br>\n",
    "    \n",
    "Please, refer to the previous examples for the sintax required. <br>\n",
    "Here are an example"
   ]
  },
  {
   "cell_type": "code",
   "execution_count": null,
   "metadata": {
    "id": "YjkE8YGqmmcy"
   },
   "outputs": [],
   "source": [
    "datf=AP.ads_search(name= 'Brown, Beth A.', institution=\"Howard university\",year='[2009 TO 2022]',\n",
    "               token=token, stop_dir=stop_dir)"
   ]
  },
  {
   "cell_type": "code",
   "execution_count": null,
   "metadata": {
    "id": "2QK1TJgTwG5z"
   },
   "outputs": [],
   "source": [
    "# To display the data frame run the following:\n",
    "datf\n",
    "# To save it in a excel format run the following:\n",
    "#datf.to_excel(path_stop+\"output.xlsx\")"
   ]
  },
  {
   "cell_type": "markdown",
   "metadata": {
    "id": "-0iJa3idgJqC"
   },
   "source": [
    "# **Example 7: Searching through a list of institutions**"
   ]
  },
  {
   "cell_type": "markdown",
   "metadata": {
    "id": "qGCvvFuewG50"
   },
   "source": [
    "The search will focus on papers from a list of institutions, so the input is a csv file that has multiple institution names stored in it. This will then find all papers from those institutions (**see CAVEATS in Example 2 above related to Institution Names)**:<br>\n",
    "\n",
    "The input file has to be a .csv file (e.g.\"top10inst.csv\"), and must contain at least one column titled  **\"Current Institution\"** or **\"Institution\"** (the first cell of the column is usually interpreted as such). The file can contains other columns, they will be ignored.<br>\n",
    "If the file is in a different directory than the one where the code it, include the whole path. <br>\n",
    "\n",
    "The code will run as in Example 2 above for each institutions and append the results at each iteration providing a final dataframe with all the researchers at all the institutions in the list provided.<br>\n",
    "**NOTE: at the moment if an institution query returns an empty dataframe the code will ignore it and continue to the following one.**\n"
   ]
  },
  {
   "cell_type": "code",
   "execution_count": null,
   "metadata": {
    "colab": {
     "base_uri": "https://localhost:8080/"
    },
    "id": "Wen24dqrwG50",
    "outputId": "673f5f77-23ba-481f-f04f-358e97928fe9"
   },
   "outputs": [
    {
     "name": "stdout",
     "output_type": "stream",
     "text": [
      "I will search for every paper who first authors is afiliated with University of California, Berkeley and published in the past 15 years.\n",
      "\n",
      "I am now querying ADS.\n",
      "\n",
      "DataFrame is empty! Something is wrong with the institution\n",
      "I am querying ADS in a different way, stay tuned!/n\n",
      "I will search for every paper who first authors is afiliated with University of California, Berkeley and published in the past 15 years.\n",
      "\n"
     ]
    },
    {
     "name": "stderr",
     "output_type": "stream",
     "text": [
      "/content/drive/MyDrive/Colab Notebooks/Mallory/ADSsearcherpkg.py:122: FutureWarning: The frame.append method is deprecated and will be removed from pandas in a future version. Use pandas.concat instead.\n",
      "  final_df= final_df.append(data1, ignore_index= True)\n"
     ]
    },
    {
     "name": "stdout",
     "output_type": "stream",
     "text": [
      "1 iterations done\n",
      "I will search for every paper who first authors is afiliated with Hunter College and published in the past 15 years.\n",
      "\n",
      "I am now querying ADS.\n",
      "\n"
     ]
    },
    {
     "name": "stderr",
     "output_type": "stream",
     "text": [
      "/content/drive/MyDrive/Colab Notebooks/Mallory/ADSsearcherpkg.py:122: FutureWarning: The frame.append method is deprecated and will be removed from pandas in a future version. Use pandas.concat instead.\n",
      "  final_df= final_df.append(data1, ignore_index= True)\n"
     ]
    },
    {
     "name": "stdout",
     "output_type": "stream",
     "text": [
      "2 iterations done\n",
      "I will search for every paper who first authors is afiliated with Yale University  and published in the past 15 years.\n",
      "\n",
      "I am now querying ADS.\n",
      "\n",
      "DataFrame is empty! Something is wrong with the institution\n",
      "I am querying ADS in a different way, stay tuned!/n\n",
      "I will search for every paper who first authors is afiliated with Yale University  and published in the past 15 years.\n",
      "\n",
      "3 iterations done\n"
     ]
    },
    {
     "name": "stderr",
     "output_type": "stream",
     "text": [
      "/content/drive/MyDrive/Colab Notebooks/Mallory/ADSsearcherpkg.py:122: FutureWarning: The frame.append method is deprecated and will be removed from pandas in a future version. Use pandas.concat instead.\n",
      "  final_df= final_df.append(data1, ignore_index= True)\n"
     ]
    }
   ],
   "source": [
    "datf=AP.run_file_insts(filename= '/example3.csv',\n",
    "               token=token, stop_dir=stop_dir)\n"
   ]
  },
  {
   "cell_type": "code",
   "execution_count": null,
   "metadata": {
    "colab": {
     "base_uri": "https://localhost:8080/",
     "height": 1000
    },
    "id": "kHud_2hPwG50",
    "outputId": "638370e3-dd06-49a3-ce23-c18330d75bd5"
   },
   "outputs": [
    {
     "data": {
      "text/html": [
       "\n",
       "  <div id=\"df-b8932aa5-b342-44bb-95c0-004a124ecfd6\" class=\"colab-df-container\">\n",
       "    <div>\n",
       "<style scoped>\n",
       "    .dataframe tbody tr th:only-of-type {\n",
       "        vertical-align: middle;\n",
       "    }\n",
       "\n",
       "    .dataframe tbody tr th {\n",
       "        vertical-align: top;\n",
       "    }\n",
       "\n",
       "    .dataframe thead th {\n",
       "        text-align: right;\n",
       "    }\n",
       "</style>\n",
       "<table border=\"1\" class=\"dataframe\">\n",
       "  <thead>\n",
       "    <tr style=\"text-align: right;\">\n",
       "      <th></th>\n",
       "      <th>Input Author</th>\n",
       "      <th>Input Institution</th>\n",
       "      <th>First Author</th>\n",
       "      <th>Bibcode</th>\n",
       "      <th>Title</th>\n",
       "      <th>Publication Date</th>\n",
       "      <th>Keywords</th>\n",
       "      <th>Affiliations</th>\n",
       "      <th>Abstract</th>\n",
       "      <th>Top 10 Words</th>\n",
       "      <th>Top 10 Bigrams</th>\n",
       "      <th>Top 10 Trigrams</th>\n",
       "      <th>Data Type</th>\n",
       "    </tr>\n",
       "  </thead>\n",
       "  <tbody>\n",
       "    <tr>\n",
       "      <th>0</th>\n",
       "      <td>Abdurashidova, Zara</td>\n",
       "      <td>University of California, Berkeley</td>\n",
       "      <td>Abdurashidova, Zara, Abdurashidova, Zara</td>\n",
       "      <td>2022ApJ...925..221A, 2022ApJ...924...51A</td>\n",
       "      <td>First Results from HERA Phase I: Upper Limits ...</td>\n",
       "      <td>2022-02-00, 2022-01-00</td>\n",
       "      <td>1383, 343, 1858, Astrophysics - Cosmology and ...</td>\n",
       "      <td>Department of Astronomy, University of Califor...</td>\n",
       "      <td>We report upper limits on the Epoch of Reioniz...</td>\n",
       "      <td>[(limit, 9), (hera, 7), (radio, 5), (upper, 4)...</td>\n",
       "      <td>[((upper, limit), 4), ((epoch, reionization), ...</td>\n",
       "      <td>[((cm, power, spectrum), 2), ((hydrogen, epoch...</td>\n",
       "      <td>Clean, Clean</td>\n",
       "    </tr>\n",
       "    <tr>\n",
       "      <th>1</th>\n",
       "      <td>Abdurrahman, F. N.</td>\n",
       "      <td>University of California, Berkeley</td>\n",
       "      <td>Abdurrahman, F. N.</td>\n",
       "      <td>2018AJ....156..100A</td>\n",
       "      <td>Improved Image Quality over 10‧ Fields with th...</td>\n",
       "      <td>2018-09-00</td>\n",
       "      <td>instrumentation: adaptive optics, site testing...</td>\n",
       "      <td>Department of Astronomy, University of Califor...</td>\n",
       "      <td>´Imaka is a ground-layer adaptive optics (GLAO...</td>\n",
       "      <td>[(ao, 8), (field, 5), (psf, 4), (telescope, 3)...</td>\n",
       "      <td>[((ao, psf), 3), ((ao, ao), 2), ((delivered, i...</td>\n",
       "      <td>[((delivered, image, quality), 2), ((imaka, gr...</td>\n",
       "      <td>Clean</td>\n",
       "    </tr>\n",
       "    <tr>\n",
       "      <th>2</th>\n",
       "      <td>Abdurrahman, Fatima N.</td>\n",
       "      <td>University of California, Berkeley</td>\n",
       "      <td>Abdurrahman, Fatima N., Abdurrahman, Fatima N.</td>\n",
       "      <td>2021ApJ...912..146A, 2021PhDT.........6A</td>\n",
       "      <td>On the Possibility of Stellar Lenses in the Bl...</td>\n",
       "      <td>2021-05-00, 2021-00-00</td>\n",
       "      <td>Gravitational microlensing, High-resolution mi...</td>\n",
       "      <td>Department of Astronomy, University of Califor...</td>\n",
       "      <td>Although stellar-mass black holes (BHs) are li...</td>\n",
       "      <td>[(lens, 20), (field, 12), (source, 11), (image...</td>\n",
       "      <td>[((lens, source), 8), ((black, hole), 6), ((pr...</td>\n",
       "      <td>[((eliminate, possibility, stellar), 4), ((ste...</td>\n",
       "      <td>Clean, Dirty</td>\n",
       "    </tr>\n",
       "    <tr>\n",
       "      <th>3</th>\n",
       "      <td>Abrahams, Ellianna S.</td>\n",
       "      <td>University of California, Berkeley</td>\n",
       "      <td>Abrahams, Ellianna S.</td>\n",
       "      <td>2022ApJ...938...46A</td>\n",
       "      <td>Informing the Cataclysmic Variable Sequence fr...</td>\n",
       "      <td>2022-10-00</td>\n",
       "      <td>Cataclysmic variable stars, Variable stars, Su...</td>\n",
       "      <td>Department of Astrophysics, University of Cali...</td>\n",
       "      <td>The orbital-period (P &lt;SUB&gt;orb&lt;/SUB&gt;) gap in t...</td>\n",
       "      <td>[(cv, 6), (orb, 4), (color, 4), (period, 3), (...</td>\n",
       "      <td>[((absolute, magnitude), 3), ((orbital, period...</td>\n",
       "      <td>[((color, absolute, magnitude), 2), ((dwarf, n...</td>\n",
       "      <td>Clean</td>\n",
       "    </tr>\n",
       "    <tr>\n",
       "      <th>4</th>\n",
       "      <td>Aczel, Miriam R.</td>\n",
       "      <td>University of California, Berkeley</td>\n",
       "      <td>Aczel, Miriam R.</td>\n",
       "      <td>2021ConPh..62...52A</td>\n",
       "      <td>The cosmos: astronomy in the new millennium, 5...</td>\n",
       "      <td>2021-01-00</td>\n",
       "      <td></td>\n",
       "      <td>California Institute for Energy and Environmen...</td>\n",
       "      <td></td>\n",
       "      <td>[]</td>\n",
       "      <td>[]</td>\n",
       "      <td>[]</td>\n",
       "      <td>Dirty</td>\n",
       "    </tr>\n",
       "    <tr>\n",
       "      <th>...</th>\n",
       "      <td>...</td>\n",
       "      <td>...</td>\n",
       "      <td>...</td>\n",
       "      <td>...</td>\n",
       "      <td>...</td>\n",
       "      <td>...</td>\n",
       "      <td>...</td>\n",
       "      <td>...</td>\n",
       "      <td>...</td>\n",
       "      <td>...</td>\n",
       "      <td>...</td>\n",
       "      <td>...</td>\n",
       "      <td>...</td>\n",
       "    </tr>\n",
       "    <tr>\n",
       "      <th>1884</th>\n",
       "      <td>van Dokkum, Pieter</td>\n",
       "      <td>Yale University</td>\n",
       "      <td>van Dokkum, Pieter, van Dokkum, Pieter, van Do...</td>\n",
       "      <td>2023NatAs...7..514V, 2023RNAAS...7...83V, 2023...</td>\n",
       "      <td>An exciting era of exploration, A Direct Conne...</td>\n",
       "      <td>2023-05-00, 2023-05-00, 2023-05-00, 2023-04-00...</td>\n",
       "      <td>, Supermassive black holes, 1663, Astrophysics...</td>\n",
       "      <td>Astronomy Department, Yale University, New Hav...</td>\n",
       "      <td>Long-exposure spectra taken with the James Web...</td>\n",
       "      <td>[(galaxy, 187), (cluster, 61), (mass, 58), (ng...</td>\n",
       "      <td>[((globular, cluster), 44), ((dark, matter), 3...</td>\n",
       "      <td>[((low, surface, brightness), 10), ((hubble, s...</td>\n",
       "      <td>Dirty, Clean, Dirty, Clean, Clean, Dirty, Dirt...</td>\n",
       "    </tr>\n",
       "    <tr>\n",
       "      <th>1885</th>\n",
       "      <td>van Dokkum, Pieter G.</td>\n",
       "      <td>Yale University</td>\n",
       "      <td>van Dokkum, Pieter G., van Dokkum, Pieter G., ...</td>\n",
       "      <td>2015ApJ...813...23V, 2015ApJ...804L..26V, 2015...</td>\n",
       "      <td>Forming Compact Massive Galaxies, Spectroscopi...</td>\n",
       "      <td>2015-11-00, 2015-05-00, 2015-01-00, 2014-12-00...</td>\n",
       "      <td>galaxies: evolution, galaxies: structure, Astr...</td>\n",
       "      <td>Department of Astronomy, Yale University, New ...</td>\n",
       "      <td>In this paper we study a key phase in the form...</td>\n",
       "      <td>[(galaxy, 114), (mass, 64), (stellar, 40), (st...</td>\n",
       "      <td>[((stellar, mass), 18), ((massive, galaxy), 13...</td>\n",
       "      <td>[((early, type, galaxies), 7), ((star, forming...</td>\n",
       "      <td>Clean, Clean, Clean, Clean, Clean, Clean, Clea...</td>\n",
       "    </tr>\n",
       "    <tr>\n",
       "      <th>1886</th>\n",
       "      <td>van de Voort, Freeke</td>\n",
       "      <td>Yale University</td>\n",
       "      <td>van de Voort, Freeke, van de Voort, Freeke, va...</td>\n",
       "      <td>2020MNRAS.494.4867V, 2019MNRAS.482L..85V, 2018...</td>\n",
       "      <td>Neutron star mergers and rare core-collapse su...</td>\n",
       "      <td>2020-06-00, 2019-01-00, 2018-06-00, 2018-05-00...</td>\n",
       "      <td>methods: numerical, stars: abundances, stars: ...</td>\n",
       "      <td>Max Planck Institute for Astrophysics, Karl-Sc...</td>\n",
       "      <td>We use cosmological, magnetohydrodynamical sim...</td>\n",
       "      <td>[(gas, 29), (galaxy, 28), (star, 16), (mass, 1...</td>\n",
       "      <td>[((star, formation), 8), ((gas, accretion), 8)...</td>\n",
       "      <td>[((rare, core, collapse), 3), ((metal, poor, s...</td>\n",
       "      <td>Clean, Clean, Clean, Clean, Clean</td>\n",
       "    </tr>\n",
       "    <tr>\n",
       "      <th>1887</th>\n",
       "      <td>van den Bosch, Frank</td>\n",
       "      <td>Yale University</td>\n",
       "      <td>van den Bosch, Frank, van den Bosch, Frank, va...</td>\n",
       "      <td>2023DDA....5420004V, 2019atp..prop...59V, 2017...</td>\n",
       "      <td>On the Tidal Evolution of Dark Matter Substruc...</td>\n",
       "      <td>2023-09-00, 2019-00-00, 2017-00-00</td>\n",
       "      <td>, ,</td>\n",
       "      <td>Yale University, Yale University, Yale University</td>\n",
       "      <td>The statistics of dark matter (DM) substructur...</td>\n",
       "      <td>[(halo, 29), (galaxy, 29), (matter, 27), (dark...</td>\n",
       "      <td>[((dark, matter), 26), ((halo, mass), 7), ((ma...</td>\n",
       "      <td>[((dark, matter, halos), 6), ((dark, matter, s...</td>\n",
       "      <td>Dirty, Dirty, Dirty</td>\n",
       "    </tr>\n",
       "    <tr>\n",
       "      <th>1888</th>\n",
       "      <td>van den Bosch, Frank C.</td>\n",
       "      <td>Yale University</td>\n",
       "      <td>van den Bosch, Frank C., van den Bosch, Frank ...</td>\n",
       "      <td>2019MNRAS.488.4984V, 2018MNRAS.475.4066V, 2018...</td>\n",
       "      <td>Basilisk: Bayesian hierarchical inference of t...</td>\n",
       "      <td>2019-10-00, 2018-04-00, 2018-03-00, 2017-06-00...</td>\n",
       "      <td>methods: analytical, methods: statistical, gal...</td>\n",
       "      <td>Department of Astronomy, Yale University, P.O....</td>\n",
       "      <td>We present a Bayesian hierarchical inference f...</td>\n",
       "      <td>[(subhaloes, 30), (halo, 27), (galaxy, 25), (m...</td>\n",
       "      <td>[((host, halo), 8), ((dark, matter), 8), ((sat...</td>\n",
       "      <td>[((galaxy, halo, connection), 3), ((dark, matt...</td>\n",
       "      <td>Clean, Clean, Clean, Clean, Clean, Clean, Clea...</td>\n",
       "    </tr>\n",
       "  </tbody>\n",
       "</table>\n",
       "<p>1889 rows × 13 columns</p>\n",
       "</div>\n",
       "    <div class=\"colab-df-buttons\">\n",
       "\n",
       "  <div class=\"colab-df-container\">\n",
       "    <button class=\"colab-df-convert\" onclick=\"convertToInteractive('df-b8932aa5-b342-44bb-95c0-004a124ecfd6')\"\n",
       "            title=\"Convert this dataframe to an interactive table.\"\n",
       "            style=\"display:none;\">\n",
       "\n",
       "  <svg xmlns=\"http://www.w3.org/2000/svg\" height=\"24px\" viewBox=\"0 -960 960 960\">\n",
       "    <path d=\"M120-120v-720h720v720H120Zm60-500h600v-160H180v160Zm220 220h160v-160H400v160Zm0 220h160v-160H400v160ZM180-400h160v-160H180v160Zm440 0h160v-160H620v160ZM180-180h160v-160H180v160Zm440 0h160v-160H620v160Z\"/>\n",
       "  </svg>\n",
       "    </button>\n",
       "\n",
       "  <style>\n",
       "    .colab-df-container {\n",
       "      display:flex;\n",
       "      gap: 12px;\n",
       "    }\n",
       "\n",
       "    .colab-df-convert {\n",
       "      background-color: #E8F0FE;\n",
       "      border: none;\n",
       "      border-radius: 50%;\n",
       "      cursor: pointer;\n",
       "      display: none;\n",
       "      fill: #1967D2;\n",
       "      height: 32px;\n",
       "      padding: 0 0 0 0;\n",
       "      width: 32px;\n",
       "    }\n",
       "\n",
       "    .colab-df-convert:hover {\n",
       "      background-color: #E2EBFA;\n",
       "      box-shadow: 0px 1px 2px rgba(60, 64, 67, 0.3), 0px 1px 3px 1px rgba(60, 64, 67, 0.15);\n",
       "      fill: #174EA6;\n",
       "    }\n",
       "\n",
       "    .colab-df-buttons div {\n",
       "      margin-bottom: 4px;\n",
       "    }\n",
       "\n",
       "    [theme=dark] .colab-df-convert {\n",
       "      background-color: #3B4455;\n",
       "      fill: #D2E3FC;\n",
       "    }\n",
       "\n",
       "    [theme=dark] .colab-df-convert:hover {\n",
       "      background-color: #434B5C;\n",
       "      box-shadow: 0px 1px 3px 1px rgba(0, 0, 0, 0.15);\n",
       "      filter: drop-shadow(0px 1px 2px rgba(0, 0, 0, 0.3));\n",
       "      fill: #FFFFFF;\n",
       "    }\n",
       "  </style>\n",
       "\n",
       "    <script>\n",
       "      const buttonEl =\n",
       "        document.querySelector('#df-b8932aa5-b342-44bb-95c0-004a124ecfd6 button.colab-df-convert');\n",
       "      buttonEl.style.display =\n",
       "        google.colab.kernel.accessAllowed ? 'block' : 'none';\n",
       "\n",
       "      async function convertToInteractive(key) {\n",
       "        const element = document.querySelector('#df-b8932aa5-b342-44bb-95c0-004a124ecfd6');\n",
       "        const dataTable =\n",
       "          await google.colab.kernel.invokeFunction('convertToInteractive',\n",
       "                                                    [key], {});\n",
       "        if (!dataTable) return;\n",
       "\n",
       "        const docLinkHtml = 'Like what you see? Visit the ' +\n",
       "          '<a target=\"_blank\" href=https://colab.research.google.com/notebooks/data_table.ipynb>data table notebook</a>'\n",
       "          + ' to learn more about interactive tables.';\n",
       "        element.innerHTML = '';\n",
       "        dataTable['output_type'] = 'display_data';\n",
       "        await google.colab.output.renderOutput(dataTable, element);\n",
       "        const docLink = document.createElement('div');\n",
       "        docLink.innerHTML = docLinkHtml;\n",
       "        element.appendChild(docLink);\n",
       "      }\n",
       "    </script>\n",
       "  </div>\n",
       "\n",
       "\n",
       "<div id=\"df-5866281f-169f-4e76-bcc9-f0d7cb18ebe3\">\n",
       "  <button class=\"colab-df-quickchart\" onclick=\"quickchart('df-5866281f-169f-4e76-bcc9-f0d7cb18ebe3')\"\n",
       "            title=\"Suggest charts.\"\n",
       "            style=\"display:none;\">\n",
       "\n",
       "<svg xmlns=\"http://www.w3.org/2000/svg\" height=\"24px\"viewBox=\"0 0 24 24\"\n",
       "     width=\"24px\">\n",
       "    <g>\n",
       "        <path d=\"M19 3H5c-1.1 0-2 .9-2 2v14c0 1.1.9 2 2 2h14c1.1 0 2-.9 2-2V5c0-1.1-.9-2-2-2zM9 17H7v-7h2v7zm4 0h-2V7h2v10zm4 0h-2v-4h2v4z\"/>\n",
       "    </g>\n",
       "</svg>\n",
       "  </button>\n",
       "\n",
       "<style>\n",
       "  .colab-df-quickchart {\n",
       "      --bg-color: #E8F0FE;\n",
       "      --fill-color: #1967D2;\n",
       "      --hover-bg-color: #E2EBFA;\n",
       "      --hover-fill-color: #174EA6;\n",
       "      --disabled-fill-color: #AAA;\n",
       "      --disabled-bg-color: #DDD;\n",
       "  }\n",
       "\n",
       "  [theme=dark] .colab-df-quickchart {\n",
       "      --bg-color: #3B4455;\n",
       "      --fill-color: #D2E3FC;\n",
       "      --hover-bg-color: #434B5C;\n",
       "      --hover-fill-color: #FFFFFF;\n",
       "      --disabled-bg-color: #3B4455;\n",
       "      --disabled-fill-color: #666;\n",
       "  }\n",
       "\n",
       "  .colab-df-quickchart {\n",
       "    background-color: var(--bg-color);\n",
       "    border: none;\n",
       "    border-radius: 50%;\n",
       "    cursor: pointer;\n",
       "    display: none;\n",
       "    fill: var(--fill-color);\n",
       "    height: 32px;\n",
       "    padding: 0;\n",
       "    width: 32px;\n",
       "  }\n",
       "\n",
       "  .colab-df-quickchart:hover {\n",
       "    background-color: var(--hover-bg-color);\n",
       "    box-shadow: 0 1px 2px rgba(60, 64, 67, 0.3), 0 1px 3px 1px rgba(60, 64, 67, 0.15);\n",
       "    fill: var(--button-hover-fill-color);\n",
       "  }\n",
       "\n",
       "  .colab-df-quickchart-complete:disabled,\n",
       "  .colab-df-quickchart-complete:disabled:hover {\n",
       "    background-color: var(--disabled-bg-color);\n",
       "    fill: var(--disabled-fill-color);\n",
       "    box-shadow: none;\n",
       "  }\n",
       "\n",
       "  .colab-df-spinner {\n",
       "    border: 2px solid var(--fill-color);\n",
       "    border-color: transparent;\n",
       "    border-bottom-color: var(--fill-color);\n",
       "    animation:\n",
       "      spin 1s steps(1) infinite;\n",
       "  }\n",
       "\n",
       "  @keyframes spin {\n",
       "    0% {\n",
       "      border-color: transparent;\n",
       "      border-bottom-color: var(--fill-color);\n",
       "      border-left-color: var(--fill-color);\n",
       "    }\n",
       "    20% {\n",
       "      border-color: transparent;\n",
       "      border-left-color: var(--fill-color);\n",
       "      border-top-color: var(--fill-color);\n",
       "    }\n",
       "    30% {\n",
       "      border-color: transparent;\n",
       "      border-left-color: var(--fill-color);\n",
       "      border-top-color: var(--fill-color);\n",
       "      border-right-color: var(--fill-color);\n",
       "    }\n",
       "    40% {\n",
       "      border-color: transparent;\n",
       "      border-right-color: var(--fill-color);\n",
       "      border-top-color: var(--fill-color);\n",
       "    }\n",
       "    60% {\n",
       "      border-color: transparent;\n",
       "      border-right-color: var(--fill-color);\n",
       "    }\n",
       "    80% {\n",
       "      border-color: transparent;\n",
       "      border-right-color: var(--fill-color);\n",
       "      border-bottom-color: var(--fill-color);\n",
       "    }\n",
       "    90% {\n",
       "      border-color: transparent;\n",
       "      border-bottom-color: var(--fill-color);\n",
       "    }\n",
       "  }\n",
       "</style>\n",
       "\n",
       "  <script>\n",
       "    async function quickchart(key) {\n",
       "      const quickchartButtonEl =\n",
       "        document.querySelector('#' + key + ' button');\n",
       "      quickchartButtonEl.disabled = true;  // To prevent multiple clicks.\n",
       "      quickchartButtonEl.classList.add('colab-df-spinner');\n",
       "      try {\n",
       "        const charts = await google.colab.kernel.invokeFunction(\n",
       "            'suggestCharts', [key], {});\n",
       "      } catch (error) {\n",
       "        console.error('Error during call to suggestCharts:', error);\n",
       "      }\n",
       "      quickchartButtonEl.classList.remove('colab-df-spinner');\n",
       "      quickchartButtonEl.classList.add('colab-df-quickchart-complete');\n",
       "    }\n",
       "    (() => {\n",
       "      let quickchartButtonEl =\n",
       "        document.querySelector('#df-5866281f-169f-4e76-bcc9-f0d7cb18ebe3 button');\n",
       "      quickchartButtonEl.style.display =\n",
       "        google.colab.kernel.accessAllowed ? 'block' : 'none';\n",
       "    })();\n",
       "  </script>\n",
       "</div>\n",
       "    </div>\n",
       "  </div>\n"
      ],
      "text/plain": [
       "                 Input Author                   Input Institution  \\\n",
       "0         Abdurashidova, Zara  University of California, Berkeley   \n",
       "1          Abdurrahman, F. N.  University of California, Berkeley   \n",
       "2      Abdurrahman, Fatima N.  University of California, Berkeley   \n",
       "3       Abrahams, Ellianna S.  University of California, Berkeley   \n",
       "4            Aczel, Miriam R.  University of California, Berkeley   \n",
       "...                       ...                                 ...   \n",
       "1884       van Dokkum, Pieter                    Yale University    \n",
       "1885    van Dokkum, Pieter G.                    Yale University    \n",
       "1886     van de Voort, Freeke                    Yale University    \n",
       "1887     van den Bosch, Frank                    Yale University    \n",
       "1888  van den Bosch, Frank C.                    Yale University    \n",
       "\n",
       "                                           First Author  \\\n",
       "0              Abdurashidova, Zara, Abdurashidova, Zara   \n",
       "1                                    Abdurrahman, F. N.   \n",
       "2        Abdurrahman, Fatima N., Abdurrahman, Fatima N.   \n",
       "3                                 Abrahams, Ellianna S.   \n",
       "4                                      Aczel, Miriam R.   \n",
       "...                                                 ...   \n",
       "1884  van Dokkum, Pieter, van Dokkum, Pieter, van Do...   \n",
       "1885  van Dokkum, Pieter G., van Dokkum, Pieter G., ...   \n",
       "1886  van de Voort, Freeke, van de Voort, Freeke, va...   \n",
       "1887  van den Bosch, Frank, van den Bosch, Frank, va...   \n",
       "1888  van den Bosch, Frank C., van den Bosch, Frank ...   \n",
       "\n",
       "                                                Bibcode  \\\n",
       "0              2022ApJ...925..221A, 2022ApJ...924...51A   \n",
       "1                                   2018AJ....156..100A   \n",
       "2              2021ApJ...912..146A, 2021PhDT.........6A   \n",
       "3                                   2022ApJ...938...46A   \n",
       "4                                   2021ConPh..62...52A   \n",
       "...                                                 ...   \n",
       "1884  2023NatAs...7..514V, 2023RNAAS...7...83V, 2023...   \n",
       "1885  2015ApJ...813...23V, 2015ApJ...804L..26V, 2015...   \n",
       "1886  2020MNRAS.494.4867V, 2019MNRAS.482L..85V, 2018...   \n",
       "1887  2023DDA....5420004V, 2019atp..prop...59V, 2017...   \n",
       "1888  2019MNRAS.488.4984V, 2018MNRAS.475.4066V, 2018...   \n",
       "\n",
       "                                                  Title  \\\n",
       "0     First Results from HERA Phase I: Upper Limits ...   \n",
       "1     Improved Image Quality over 10‧ Fields with th...   \n",
       "2     On the Possibility of Stellar Lenses in the Bl...   \n",
       "3     Informing the Cataclysmic Variable Sequence fr...   \n",
       "4     The cosmos: astronomy in the new millennium, 5...   \n",
       "...                                                 ...   \n",
       "1884  An exciting era of exploration, A Direct Conne...   \n",
       "1885  Forming Compact Massive Galaxies, Spectroscopi...   \n",
       "1886  Neutron star mergers and rare core-collapse su...   \n",
       "1887  On the Tidal Evolution of Dark Matter Substruc...   \n",
       "1888  Basilisk: Bayesian hierarchical inference of t...   \n",
       "\n",
       "                                       Publication Date  \\\n",
       "0                                2022-02-00, 2022-01-00   \n",
       "1                                            2018-09-00   \n",
       "2                                2021-05-00, 2021-00-00   \n",
       "3                                            2022-10-00   \n",
       "4                                            2021-01-00   \n",
       "...                                                 ...   \n",
       "1884  2023-05-00, 2023-05-00, 2023-05-00, 2023-04-00...   \n",
       "1885  2015-11-00, 2015-05-00, 2015-01-00, 2014-12-00...   \n",
       "1886  2020-06-00, 2019-01-00, 2018-06-00, 2018-05-00...   \n",
       "1887                 2023-09-00, 2019-00-00, 2017-00-00   \n",
       "1888  2019-10-00, 2018-04-00, 2018-03-00, 2017-06-00...   \n",
       "\n",
       "                                               Keywords  \\\n",
       "0     1383, 343, 1858, Astrophysics - Cosmology and ...   \n",
       "1     instrumentation: adaptive optics, site testing...   \n",
       "2     Gravitational microlensing, High-resolution mi...   \n",
       "3     Cataclysmic variable stars, Variable stars, Su...   \n",
       "4                                                         \n",
       "...                                                 ...   \n",
       "1884  , Supermassive black holes, 1663, Astrophysics...   \n",
       "1885  galaxies: evolution, galaxies: structure, Astr...   \n",
       "1886  methods: numerical, stars: abundances, stars: ...   \n",
       "1887                                               , ,    \n",
       "1888  methods: analytical, methods: statistical, gal...   \n",
       "\n",
       "                                           Affiliations  \\\n",
       "0     Department of Astronomy, University of Califor...   \n",
       "1     Department of Astronomy, University of Califor...   \n",
       "2     Department of Astronomy, University of Califor...   \n",
       "3     Department of Astrophysics, University of Cali...   \n",
       "4     California Institute for Energy and Environmen...   \n",
       "...                                                 ...   \n",
       "1884  Astronomy Department, Yale University, New Hav...   \n",
       "1885  Department of Astronomy, Yale University, New ...   \n",
       "1886  Max Planck Institute for Astrophysics, Karl-Sc...   \n",
       "1887  Yale University, Yale University, Yale University   \n",
       "1888  Department of Astronomy, Yale University, P.O....   \n",
       "\n",
       "                                               Abstract  \\\n",
       "0     We report upper limits on the Epoch of Reioniz...   \n",
       "1     ´Imaka is a ground-layer adaptive optics (GLAO...   \n",
       "2     Although stellar-mass black holes (BHs) are li...   \n",
       "3     The orbital-period (P <SUB>orb</SUB>) gap in t...   \n",
       "4                                                         \n",
       "...                                                 ...   \n",
       "1884  Long-exposure spectra taken with the James Web...   \n",
       "1885  In this paper we study a key phase in the form...   \n",
       "1886  We use cosmological, magnetohydrodynamical sim...   \n",
       "1887  The statistics of dark matter (DM) substructur...   \n",
       "1888  We present a Bayesian hierarchical inference f...   \n",
       "\n",
       "                                           Top 10 Words  \\\n",
       "0     [(limit, 9), (hera, 7), (radio, 5), (upper, 4)...   \n",
       "1     [(ao, 8), (field, 5), (psf, 4), (telescope, 3)...   \n",
       "2     [(lens, 20), (field, 12), (source, 11), (image...   \n",
       "3     [(cv, 6), (orb, 4), (color, 4), (period, 3), (...   \n",
       "4                                                    []   \n",
       "...                                                 ...   \n",
       "1884  [(galaxy, 187), (cluster, 61), (mass, 58), (ng...   \n",
       "1885  [(galaxy, 114), (mass, 64), (stellar, 40), (st...   \n",
       "1886  [(gas, 29), (galaxy, 28), (star, 16), (mass, 1...   \n",
       "1887  [(halo, 29), (galaxy, 29), (matter, 27), (dark...   \n",
       "1888  [(subhaloes, 30), (halo, 27), (galaxy, 25), (m...   \n",
       "\n",
       "                                         Top 10 Bigrams  \\\n",
       "0     [((upper, limit), 4), ((epoch, reionization), ...   \n",
       "1     [((ao, psf), 3), ((ao, ao), 2), ((delivered, i...   \n",
       "2     [((lens, source), 8), ((black, hole), 6), ((pr...   \n",
       "3     [((absolute, magnitude), 3), ((orbital, period...   \n",
       "4                                                    []   \n",
       "...                                                 ...   \n",
       "1884  [((globular, cluster), 44), ((dark, matter), 3...   \n",
       "1885  [((stellar, mass), 18), ((massive, galaxy), 13...   \n",
       "1886  [((star, formation), 8), ((gas, accretion), 8)...   \n",
       "1887  [((dark, matter), 26), ((halo, mass), 7), ((ma...   \n",
       "1888  [((host, halo), 8), ((dark, matter), 8), ((sat...   \n",
       "\n",
       "                                        Top 10 Trigrams  \\\n",
       "0     [((cm, power, spectrum), 2), ((hydrogen, epoch...   \n",
       "1     [((delivered, image, quality), 2), ((imaka, gr...   \n",
       "2     [((eliminate, possibility, stellar), 4), ((ste...   \n",
       "3     [((color, absolute, magnitude), 2), ((dwarf, n...   \n",
       "4                                                    []   \n",
       "...                                                 ...   \n",
       "1884  [((low, surface, brightness), 10), ((hubble, s...   \n",
       "1885  [((early, type, galaxies), 7), ((star, forming...   \n",
       "1886  [((rare, core, collapse), 3), ((metal, poor, s...   \n",
       "1887  [((dark, matter, halos), 6), ((dark, matter, s...   \n",
       "1888  [((galaxy, halo, connection), 3), ((dark, matt...   \n",
       "\n",
       "                                              Data Type  \n",
       "0                                          Clean, Clean  \n",
       "1                                                 Clean  \n",
       "2                                          Clean, Dirty  \n",
       "3                                                 Clean  \n",
       "4                                                 Dirty  \n",
       "...                                                 ...  \n",
       "1884  Dirty, Clean, Dirty, Clean, Clean, Dirty, Dirt...  \n",
       "1885  Clean, Clean, Clean, Clean, Clean, Clean, Clea...  \n",
       "1886                  Clean, Clean, Clean, Clean, Clean  \n",
       "1887                                Dirty, Dirty, Dirty  \n",
       "1888  Clean, Clean, Clean, Clean, Clean, Clean, Clea...  \n",
       "\n",
       "[1889 rows x 13 columns]"
      ]
     },
     "execution_count": 10,
     "metadata": {},
     "output_type": "execute_result"
    }
   ],
   "source": [
    "# To display the data frame run the following:\n",
    "datf\n",
    "# To save it in a excel format run the following:\n",
    "#datf.to_excel(path_stop+\"output.xlsx\")"
   ]
  },
  {
   "cell_type": "markdown",
   "metadata": {
    "id": "PC0t44PjnokI"
   },
   "source": [
    "# **Example 8: Searching through a list of Authors names**"
   ]
  },
  {
   "cell_type": "markdown",
   "metadata": {
    "id": "oIWT9esWwG55"
   },
   "source": [
    "The search will focus on papers from a list of authors names (similar format as Example 1 above, **'Last, First'**). <br>\n",
    "The input is a .csv file that has multiple authors names stored in it under a column Title: **\"Name\"**. <br>\n",
    "The ADS search will focus on the period 2003 to 2023.\n",
    "<br>\n",
    "If the file is in a different directory than the one where the code it, include the whole path. <br>\n",
    "\n",
    "The code will then execute the search one name after the other and uppend each result to the previous one.<br>\n",
    "In the following example we use, for convenience, the same example file as before which also contain a list of researchers names.\n"
   ]
  },
  {
   "cell_type": "code",
   "execution_count": null,
   "metadata": {
    "colab": {
     "base_uri": "https://localhost:8080/"
    },
    "id": "wAe9-O_YwG55",
    "outputId": "35c435f2-b521-4950-db6c-ec13fe46fb7e"
   },
   "outputs": [
    {
     "name": "stdout",
     "output_type": "stream",
     "text": [
      "I will go through each name in the list. Name should be formatted in a single column called \"Last, First\".  We will search by default any pubblication in the past 20 years by these authors, independently of the institutions they were  affiliated to. \n",
      "\n",
      "Browning, Matthew\n",
      "I will search for every paper who first authors is Browning, Matthew and has published between 2003 and 2023. \n",
      "\n",
      "I am now querying ADS.\n",
      "\n"
     ]
    },
    {
     "name": "stderr",
     "output_type": "stream",
     "text": [
      "/content/drive/MyDrive/Colab Notebooks/Mallory/ADSsearcherpkg.py:150: FutureWarning: The frame.append method is deprecated and will be removed from pandas in a future version. Use pandas.concat instead.\n",
      "  final_df= final_df.append(data1, ignore_index= True)\n"
     ]
    },
    {
     "name": "stdout",
     "output_type": "stream",
     "text": [
      "1 iterations done\n",
      "Cruz, Kelle\n",
      "I will search for every paper who first authors is Cruz, Kelle and has published between 2003 and 2023. \n",
      "\n",
      "I am now querying ADS.\n",
      "\n"
     ]
    },
    {
     "name": "stderr",
     "output_type": "stream",
     "text": [
      "/content/drive/MyDrive/Colab Notebooks/Mallory/ADSsearcherpkg.py:150: FutureWarning: The frame.append method is deprecated and will be removed from pandas in a future version. Use pandas.concat instead.\n",
      "  final_df= final_df.append(data1, ignore_index= True)\n"
     ]
    },
    {
     "name": "stdout",
     "output_type": "stream",
     "text": [
      "2 iterations done\n",
      "Gawiser, Eric\n",
      "I will search for every paper who first authors is Gawiser, Eric and has published between 2003 and 2023. \n",
      "\n",
      "I am now querying ADS.\n",
      "\n",
      "3 iterations done\n"
     ]
    },
    {
     "name": "stderr",
     "output_type": "stream",
     "text": [
      "/content/drive/MyDrive/Colab Notebooks/Mallory/ADSsearcherpkg.py:150: FutureWarning: The frame.append method is deprecated and will be removed from pandas in a future version. Use pandas.concat instead.\n",
      "  final_df= final_df.append(data1, ignore_index= True)\n"
     ]
    }
   ],
   "source": [
    "datf=AP.run_file_names(filename= '/example3.csv',\n",
    "               token=token, stop_dir=stop_dir)"
   ]
  },
  {
   "cell_type": "code",
   "execution_count": null,
   "metadata": {
    "colab": {
     "base_uri": "https://localhost:8080/",
     "height": 493
    },
    "id": "00bBkTr1wG55",
    "outputId": "30f0d258-b5f9-4d85-8a23-8df733c7a454"
   },
   "outputs": [
    {
     "data": {
      "text/html": [
       "\n",
       "  <div id=\"df-860b62dd-de2d-4319-b0ba-a95964f5d28a\" class=\"colab-df-container\">\n",
       "    <div>\n",
       "<style scoped>\n",
       "    .dataframe tbody tr th:only-of-type {\n",
       "        vertical-align: middle;\n",
       "    }\n",
       "\n",
       "    .dataframe tbody tr th {\n",
       "        vertical-align: top;\n",
       "    }\n",
       "\n",
       "    .dataframe thead th {\n",
       "        text-align: right;\n",
       "    }\n",
       "</style>\n",
       "<table border=\"1\" class=\"dataframe\">\n",
       "  <thead>\n",
       "    <tr style=\"text-align: right;\">\n",
       "      <th></th>\n",
       "      <th>Input Author</th>\n",
       "      <th>Input Institution</th>\n",
       "      <th>First Author</th>\n",
       "      <th>Bibcode</th>\n",
       "      <th>Title</th>\n",
       "      <th>Publication Date</th>\n",
       "      <th>Keywords</th>\n",
       "      <th>Affiliations</th>\n",
       "      <th>Abstract</th>\n",
       "      <th>Top 10 Words</th>\n",
       "      <th>Top 10 Bigrams</th>\n",
       "      <th>Top 10 Trigrams</th>\n",
       "      <th>Data Type</th>\n",
       "    </tr>\n",
       "  </thead>\n",
       "  <tbody>\n",
       "    <tr>\n",
       "      <th>0</th>\n",
       "      <td>Browning, Matthew</td>\n",
       "      <td>None, None, None, None, None, None, None, None...</td>\n",
       "      <td>Browning, M. K., Browning, Matthew K., Brownin...</td>\n",
       "      <td>2021csss.confE..80B, 2020mdps.conf..141B, 2019...</td>\n",
       "      <td>Modelling X-ray and radio emission from a flar...</td>\n",
       "      <td>2021-03-00, 2020-01-00, 2019-05-00, 2017-05-00...</td>\n",
       "      <td>Young stars, Flares, Radio emission, , Astroph...</td>\n",
       "      <td>Uni of Manchester, -, -, University of Exeter,...</td>\n",
       "      <td>T-Tauri stars exhibit strong flaring activity....</td>\n",
       "      <td>[(field, 88), (magnetic, 66), (rotation, 64), ...</td>\n",
       "      <td>[((magnetic, field), 42), ((differential, rota...</td>\n",
       "      <td>[((magnetic, dynamo, action), 9), ((low, mass,...</td>\n",
       "      <td>Dirty, Dirty, Dirty, Dirty, Dirty, Dirty, Dirt...</td>\n",
       "    </tr>\n",
       "    <tr>\n",
       "      <th>1</th>\n",
       "      <td>Cruz, Kelle</td>\n",
       "      <td>None, None, None, None, None, None, None, None...</td>\n",
       "      <td>Cruz, Kelle, Cruz, K. L., Cruz, Kelle, Cruz, K...</td>\n",
       "      <td>2021csss.confE.248C, 2018yCat..51550034C, 2018...</td>\n",
       "      <td>SIMPLE Archive of Complex Objects: A new colla...</td>\n",
       "      <td>2021-03-00, 2018-09-00, 2018-07-00, 2018-01-00...</td>\n",
       "      <td>Very low mass stars, Astronomy, archives, Star...</td>\n",
       "      <td>CUNY Hunter College, -, -, Department of Physi...</td>\n",
       "      <td>The SIMPLE Archive project -- the Substellar a...</td>\n",
       "      <td>[(dwarf, 120), (mass, 44), (brown, 44), (low, ...</td>\n",
       "      <td>[((brown, dwarf), 44), ((ultracool, dwarf), 20...</td>\n",
       "      <td>[((stars, brown, dwarfs), 9), ((low, mass, sta...</td>\n",
       "      <td>Dirty, Dirty, Dirty, Dirty, Clean, Dirty, Dirt...</td>\n",
       "    </tr>\n",
       "    <tr>\n",
       "      <th>2</th>\n",
       "      <td>Gawiser, Eric</td>\n",
       "      <td>None, None, None, None, None, None, None, None...</td>\n",
       "      <td>Gawiser, Eric, Gawiser, Eric, Gawiser, Eric, G...</td>\n",
       "      <td>2023AAS...24142705G, 2021adap.prop..169G, 2018...</td>\n",
       "      <td>ODIN: Blobs, Galaxies, and Protoclusters Found...</td>\n",
       "      <td>2023-01-00, 2021-00-00, 2018-01-00, 2016-06-00...</td>\n",
       "      <td>, , , , , , , , , , , , , , , 98.62.Ai, 98.62....</td>\n",
       "      <td>Rutgers University, Rutgers University, New Br...</td>\n",
       "      <td>We present a new NOIRLab Survey called ODIN (O...</td>\n",
       "      <td>[(galaxy, 161), (formation, 75), (star, 67), (...</td>\n",
       "      <td>[((star, formation), 57), ((formation, rate), ...</td>\n",
       "      <td>[((star, formation, rate), 18), ((star, format...</td>\n",
       "      <td>Clean, Dirty, Clean, Dirty, Dirty, Dirty, Dirt...</td>\n",
       "    </tr>\n",
       "  </tbody>\n",
       "</table>\n",
       "</div>\n",
       "    <div class=\"colab-df-buttons\">\n",
       "\n",
       "  <div class=\"colab-df-container\">\n",
       "    <button class=\"colab-df-convert\" onclick=\"convertToInteractive('df-860b62dd-de2d-4319-b0ba-a95964f5d28a')\"\n",
       "            title=\"Convert this dataframe to an interactive table.\"\n",
       "            style=\"display:none;\">\n",
       "\n",
       "  <svg xmlns=\"http://www.w3.org/2000/svg\" height=\"24px\" viewBox=\"0 -960 960 960\">\n",
       "    <path d=\"M120-120v-720h720v720H120Zm60-500h600v-160H180v160Zm220 220h160v-160H400v160Zm0 220h160v-160H400v160ZM180-400h160v-160H180v160Zm440 0h160v-160H620v160ZM180-180h160v-160H180v160Zm440 0h160v-160H620v160Z\"/>\n",
       "  </svg>\n",
       "    </button>\n",
       "\n",
       "  <style>\n",
       "    .colab-df-container {\n",
       "      display:flex;\n",
       "      gap: 12px;\n",
       "    }\n",
       "\n",
       "    .colab-df-convert {\n",
       "      background-color: #E8F0FE;\n",
       "      border: none;\n",
       "      border-radius: 50%;\n",
       "      cursor: pointer;\n",
       "      display: none;\n",
       "      fill: #1967D2;\n",
       "      height: 32px;\n",
       "      padding: 0 0 0 0;\n",
       "      width: 32px;\n",
       "    }\n",
       "\n",
       "    .colab-df-convert:hover {\n",
       "      background-color: #E2EBFA;\n",
       "      box-shadow: 0px 1px 2px rgba(60, 64, 67, 0.3), 0px 1px 3px 1px rgba(60, 64, 67, 0.15);\n",
       "      fill: #174EA6;\n",
       "    }\n",
       "\n",
       "    .colab-df-buttons div {\n",
       "      margin-bottom: 4px;\n",
       "    }\n",
       "\n",
       "    [theme=dark] .colab-df-convert {\n",
       "      background-color: #3B4455;\n",
       "      fill: #D2E3FC;\n",
       "    }\n",
       "\n",
       "    [theme=dark] .colab-df-convert:hover {\n",
       "      background-color: #434B5C;\n",
       "      box-shadow: 0px 1px 3px 1px rgba(0, 0, 0, 0.15);\n",
       "      filter: drop-shadow(0px 1px 2px rgba(0, 0, 0, 0.3));\n",
       "      fill: #FFFFFF;\n",
       "    }\n",
       "  </style>\n",
       "\n",
       "    <script>\n",
       "      const buttonEl =\n",
       "        document.querySelector('#df-860b62dd-de2d-4319-b0ba-a95964f5d28a button.colab-df-convert');\n",
       "      buttonEl.style.display =\n",
       "        google.colab.kernel.accessAllowed ? 'block' : 'none';\n",
       "\n",
       "      async function convertToInteractive(key) {\n",
       "        const element = document.querySelector('#df-860b62dd-de2d-4319-b0ba-a95964f5d28a');\n",
       "        const dataTable =\n",
       "          await google.colab.kernel.invokeFunction('convertToInteractive',\n",
       "                                                    [key], {});\n",
       "        if (!dataTable) return;\n",
       "\n",
       "        const docLinkHtml = 'Like what you see? Visit the ' +\n",
       "          '<a target=\"_blank\" href=https://colab.research.google.com/notebooks/data_table.ipynb>data table notebook</a>'\n",
       "          + ' to learn more about interactive tables.';\n",
       "        element.innerHTML = '';\n",
       "        dataTable['output_type'] = 'display_data';\n",
       "        await google.colab.output.renderOutput(dataTable, element);\n",
       "        const docLink = document.createElement('div');\n",
       "        docLink.innerHTML = docLinkHtml;\n",
       "        element.appendChild(docLink);\n",
       "      }\n",
       "    </script>\n",
       "  </div>\n",
       "\n",
       "\n",
       "<div id=\"df-a96bc3e0-eb0d-4915-9448-197c48966f4f\">\n",
       "  <button class=\"colab-df-quickchart\" onclick=\"quickchart('df-a96bc3e0-eb0d-4915-9448-197c48966f4f')\"\n",
       "            title=\"Suggest charts.\"\n",
       "            style=\"display:none;\">\n",
       "\n",
       "<svg xmlns=\"http://www.w3.org/2000/svg\" height=\"24px\"viewBox=\"0 0 24 24\"\n",
       "     width=\"24px\">\n",
       "    <g>\n",
       "        <path d=\"M19 3H5c-1.1 0-2 .9-2 2v14c0 1.1.9 2 2 2h14c1.1 0 2-.9 2-2V5c0-1.1-.9-2-2-2zM9 17H7v-7h2v7zm4 0h-2V7h2v10zm4 0h-2v-4h2v4z\"/>\n",
       "    </g>\n",
       "</svg>\n",
       "  </button>\n",
       "\n",
       "<style>\n",
       "  .colab-df-quickchart {\n",
       "      --bg-color: #E8F0FE;\n",
       "      --fill-color: #1967D2;\n",
       "      --hover-bg-color: #E2EBFA;\n",
       "      --hover-fill-color: #174EA6;\n",
       "      --disabled-fill-color: #AAA;\n",
       "      --disabled-bg-color: #DDD;\n",
       "  }\n",
       "\n",
       "  [theme=dark] .colab-df-quickchart {\n",
       "      --bg-color: #3B4455;\n",
       "      --fill-color: #D2E3FC;\n",
       "      --hover-bg-color: #434B5C;\n",
       "      --hover-fill-color: #FFFFFF;\n",
       "      --disabled-bg-color: #3B4455;\n",
       "      --disabled-fill-color: #666;\n",
       "  }\n",
       "\n",
       "  .colab-df-quickchart {\n",
       "    background-color: var(--bg-color);\n",
       "    border: none;\n",
       "    border-radius: 50%;\n",
       "    cursor: pointer;\n",
       "    display: none;\n",
       "    fill: var(--fill-color);\n",
       "    height: 32px;\n",
       "    padding: 0;\n",
       "    width: 32px;\n",
       "  }\n",
       "\n",
       "  .colab-df-quickchart:hover {\n",
       "    background-color: var(--hover-bg-color);\n",
       "    box-shadow: 0 1px 2px rgba(60, 64, 67, 0.3), 0 1px 3px 1px rgba(60, 64, 67, 0.15);\n",
       "    fill: var(--button-hover-fill-color);\n",
       "  }\n",
       "\n",
       "  .colab-df-quickchart-complete:disabled,\n",
       "  .colab-df-quickchart-complete:disabled:hover {\n",
       "    background-color: var(--disabled-bg-color);\n",
       "    fill: var(--disabled-fill-color);\n",
       "    box-shadow: none;\n",
       "  }\n",
       "\n",
       "  .colab-df-spinner {\n",
       "    border: 2px solid var(--fill-color);\n",
       "    border-color: transparent;\n",
       "    border-bottom-color: var(--fill-color);\n",
       "    animation:\n",
       "      spin 1s steps(1) infinite;\n",
       "  }\n",
       "\n",
       "  @keyframes spin {\n",
       "    0% {\n",
       "      border-color: transparent;\n",
       "      border-bottom-color: var(--fill-color);\n",
       "      border-left-color: var(--fill-color);\n",
       "    }\n",
       "    20% {\n",
       "      border-color: transparent;\n",
       "      border-left-color: var(--fill-color);\n",
       "      border-top-color: var(--fill-color);\n",
       "    }\n",
       "    30% {\n",
       "      border-color: transparent;\n",
       "      border-left-color: var(--fill-color);\n",
       "      border-top-color: var(--fill-color);\n",
       "      border-right-color: var(--fill-color);\n",
       "    }\n",
       "    40% {\n",
       "      border-color: transparent;\n",
       "      border-right-color: var(--fill-color);\n",
       "      border-top-color: var(--fill-color);\n",
       "    }\n",
       "    60% {\n",
       "      border-color: transparent;\n",
       "      border-right-color: var(--fill-color);\n",
       "    }\n",
       "    80% {\n",
       "      border-color: transparent;\n",
       "      border-right-color: var(--fill-color);\n",
       "      border-bottom-color: var(--fill-color);\n",
       "    }\n",
       "    90% {\n",
       "      border-color: transparent;\n",
       "      border-bottom-color: var(--fill-color);\n",
       "    }\n",
       "  }\n",
       "</style>\n",
       "\n",
       "  <script>\n",
       "    async function quickchart(key) {\n",
       "      const quickchartButtonEl =\n",
       "        document.querySelector('#' + key + ' button');\n",
       "      quickchartButtonEl.disabled = true;  // To prevent multiple clicks.\n",
       "      quickchartButtonEl.classList.add('colab-df-spinner');\n",
       "      try {\n",
       "        const charts = await google.colab.kernel.invokeFunction(\n",
       "            'suggestCharts', [key], {});\n",
       "      } catch (error) {\n",
       "        console.error('Error during call to suggestCharts:', error);\n",
       "      }\n",
       "      quickchartButtonEl.classList.remove('colab-df-spinner');\n",
       "      quickchartButtonEl.classList.add('colab-df-quickchart-complete');\n",
       "    }\n",
       "    (() => {\n",
       "      let quickchartButtonEl =\n",
       "        document.querySelector('#df-a96bc3e0-eb0d-4915-9448-197c48966f4f button');\n",
       "      quickchartButtonEl.style.display =\n",
       "        google.colab.kernel.accessAllowed ? 'block' : 'none';\n",
       "    })();\n",
       "  </script>\n",
       "</div>\n",
       "    </div>\n",
       "  </div>\n"
      ],
      "text/plain": [
       "        Input Author                                  Input Institution  \\\n",
       "0  Browning, Matthew  None, None, None, None, None, None, None, None...   \n",
       "1        Cruz, Kelle  None, None, None, None, None, None, None, None...   \n",
       "2      Gawiser, Eric  None, None, None, None, None, None, None, None...   \n",
       "\n",
       "                                        First Author  \\\n",
       "0  Browning, M. K., Browning, Matthew K., Brownin...   \n",
       "1  Cruz, Kelle, Cruz, K. L., Cruz, Kelle, Cruz, K...   \n",
       "2  Gawiser, Eric, Gawiser, Eric, Gawiser, Eric, G...   \n",
       "\n",
       "                                             Bibcode  \\\n",
       "0  2021csss.confE..80B, 2020mdps.conf..141B, 2019...   \n",
       "1  2021csss.confE.248C, 2018yCat..51550034C, 2018...   \n",
       "2  2023AAS...24142705G, 2021adap.prop..169G, 2018...   \n",
       "\n",
       "                                               Title  \\\n",
       "0  Modelling X-ray and radio emission from a flar...   \n",
       "1  SIMPLE Archive of Complex Objects: A new colla...   \n",
       "2  ODIN: Blobs, Galaxies, and Protoclusters Found...   \n",
       "\n",
       "                                    Publication Date  \\\n",
       "0  2021-03-00, 2020-01-00, 2019-05-00, 2017-05-00...   \n",
       "1  2021-03-00, 2018-09-00, 2018-07-00, 2018-01-00...   \n",
       "2  2023-01-00, 2021-00-00, 2018-01-00, 2016-06-00...   \n",
       "\n",
       "                                            Keywords  \\\n",
       "0  Young stars, Flares, Radio emission, , Astroph...   \n",
       "1  Very low mass stars, Astronomy, archives, Star...   \n",
       "2  , , , , , , , , , , , , , , , 98.62.Ai, 98.62....   \n",
       "\n",
       "                                        Affiliations  \\\n",
       "0  Uni of Manchester, -, -, University of Exeter,...   \n",
       "1  CUNY Hunter College, -, -, Department of Physi...   \n",
       "2  Rutgers University, Rutgers University, New Br...   \n",
       "\n",
       "                                            Abstract  \\\n",
       "0  T-Tauri stars exhibit strong flaring activity....   \n",
       "1  The SIMPLE Archive project -- the Substellar a...   \n",
       "2  We present a new NOIRLab Survey called ODIN (O...   \n",
       "\n",
       "                                        Top 10 Words  \\\n",
       "0  [(field, 88), (magnetic, 66), (rotation, 64), ...   \n",
       "1  [(dwarf, 120), (mass, 44), (brown, 44), (low, ...   \n",
       "2  [(galaxy, 161), (formation, 75), (star, 67), (...   \n",
       "\n",
       "                                      Top 10 Bigrams  \\\n",
       "0  [((magnetic, field), 42), ((differential, rota...   \n",
       "1  [((brown, dwarf), 44), ((ultracool, dwarf), 20...   \n",
       "2  [((star, formation), 57), ((formation, rate), ...   \n",
       "\n",
       "                                     Top 10 Trigrams  \\\n",
       "0  [((magnetic, dynamo, action), 9), ((low, mass,...   \n",
       "1  [((stars, brown, dwarfs), 9), ((low, mass, sta...   \n",
       "2  [((star, formation, rate), 18), ((star, format...   \n",
       "\n",
       "                                           Data Type  \n",
       "0  Dirty, Dirty, Dirty, Dirty, Dirty, Dirty, Dirt...  \n",
       "1  Dirty, Dirty, Dirty, Dirty, Clean, Dirty, Dirt...  \n",
       "2  Clean, Dirty, Clean, Dirty, Dirty, Dirty, Dirt...  "
      ]
     },
     "execution_count": 8,
     "metadata": {},
     "output_type": "execute_result"
    }
   ],
   "source": [
    "# To display the data frame run the following:\n",
    "datf\n",
    "# To save it in a excel format run the following:\n",
    "#datf.to_excel(path_stop+\"output.xlsx\")"
   ]
  },
  {
   "cell_type": "code",
   "execution_count": null,
   "metadata": {
    "id": "e9kC4myBBGM0"
   },
   "outputs": [],
   "source": []
  },
  {
   "cell_type": "code",
   "execution_count": null,
   "metadata": {
    "id": "d8D4hVQDBN-u"
   },
   "outputs": [],
   "source": []
  }
 ],
 "metadata": {
  "colab": {
   "provenance": []
  },
  "kernelspec": {
   "display_name": "Python 3 (ipykernel)",
   "language": "python",
   "name": "python3"
  },
  "language_info": {
   "codemirror_mode": {
    "name": "ipython",
    "version": 3
   },
   "file_extension": ".py",
   "mimetype": "text/x-python",
   "name": "python",
   "nbconvert_exporter": "python",
   "pygments_lexer": "ipython3",
   "version": "3.12.3"
  }
 },
 "nbformat": 4,
 "nbformat_minor": 1
}
